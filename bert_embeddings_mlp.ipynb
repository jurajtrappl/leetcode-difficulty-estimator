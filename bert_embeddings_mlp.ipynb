{
 "cells": [
  {
   "cell_type": "code",
   "execution_count": 1,
   "id": "ddb58543-b5d0-4dc0-8a2f-dbfb263899b4",
   "metadata": {},
   "outputs": [
    {
     "name": "stdout",
     "output_type": "stream",
     "text": [
      "Note: you may need to restart the kernel to use updated packages.\n"
     ]
    }
   ],
   "source": [
    "%pip install -qU keras_tuner beautifulsoup4 matplotlib transformers tqdm seaborn"
   ]
  },
  {
   "cell_type": "markdown",
   "id": "148ffddf",
   "metadata": {},
   "source": [
    "## Dependencies"
   ]
  },
  {
   "cell_type": "code",
   "execution_count": 55,
   "id": "c845e911-d47e-4eb8-a5e6-34ed6852f6fc",
   "metadata": {},
   "outputs": [],
   "source": [
    "from bs4 import BeautifulSoup\n",
    "from collections import Counter\n",
    "import json\n",
    "import keras_tuner as kt\n",
    "import matplotlib.pyplot as plt\n",
    "import numpy as np\n",
    "np.set_printoptions(precision=3, suppress=True)\n",
    "import os\n",
    "import pandas as pd\n",
    "import random\n",
    "import re\n",
    "import seaborn as sns\n",
    "from sklearn.metrics import confusion_matrix\n",
    "from sklearn.model_selection import train_test_split\n",
    "from sklearn.utils import resample\n",
    "import string\n",
    "import tensorflow as tf\n",
    "from tensorflow.keras.optimizers.schedules import ExponentialDecay, CosineDecay\n",
    "from tensorflow.keras.preprocessing.text import Tokenizer\n",
    "from tensorflow.keras.preprocessing.sequence import pad_sequences\n",
    "from tensorflow.keras.regularizers import l1_l2\n",
    "os.environ.setdefault(\"TF_CPP_MIN_LOG_LEVEL\", \"2\")  # Report only TF errors by default\n",
    "from tqdm import tqdm\n",
    "from transformers import BertTokenizer, TFBertModel"
   ]
  },
  {
   "cell_type": "code",
   "execution_count": 56,
   "id": "b850a356-2412-4a15-aa29-de76a2f9c828",
   "metadata": {},
   "outputs": [],
   "source": [
    "EXPERIMENT_NAME = \"second_layer_mean_pooling_dense\"\n",
    "SEED = 42\n",
    "\n",
    "tf.keras.utils.set_random_seed(SEED)"
   ]
  },
  {
   "cell_type": "markdown",
   "id": "d5ab4083",
   "metadata": {},
   "source": [
    "## Data\n",
    "\n",
    "Load the dataset"
   ]
  },
  {
   "cell_type": "code",
   "execution_count": 57,
   "id": "f89dc9eb-9ac8-4377-a2ad-b9c44c73484a",
   "metadata": {},
   "outputs": [],
   "source": [
    "with open(\"leetcode_problems_dataset.json\", \"r\") as f:\n",
    "    problems = json.load(f)"
   ]
  },
  {
   "cell_type": "markdown",
   "id": "2d08e0e9-441d-4985-b0be-96e8199e6476",
   "metadata": {},
   "source": [
    "Premium problems don't have content (since I'm not a premium user) and get rid of HTML tags"
   ]
  },
  {
   "cell_type": "code",
   "execution_count": 58,
   "id": "87543faa-d7fe-4d56-8feb-f43a51952569",
   "metadata": {},
   "outputs": [
    {
     "name": "stderr",
     "output_type": "stream",
     "text": [
      "100%|██████████| 2950/2950 [00:03<00:00, 864.84it/s]\n"
     ]
    }
   ],
   "source": [
    "problems_without_html = []\n",
    "for problem_name, problem_data in tqdm(problems.items()):\n",
    "    if not problem_data[\"content\"]:\n",
    "        continue\n",
    "    \n",
    "    problems_without_html.append((BeautifulSoup(problem_data[\"content\"], \"html.parser\").get_text(), problem_data[\"difficulty\"]))\n",
    "    \n",
    "X, y = [], []\n",
    "difficulties_int = { \"Easy\": 0, \"Medium\": 1, \"Hard\": 2 }\n",
    "for problem_description, difficulty in problems_without_html:\n",
    "    X.append(problem_description)\n",
    "    y.append(difficulties_int[difficulty])"
   ]
  },
  {
   "cell_type": "markdown",
   "id": "935796c6-1369-440f-83ff-68db208e7325",
   "metadata": {},
   "source": [
    "## BERT embeddings"
   ]
  },
  {
   "cell_type": "code",
   "execution_count": 59,
   "id": "ab0c417c-23c7-491a-b6a4-cbfa5b4d40ba",
   "metadata": {},
   "outputs": [
    {
     "name": "stderr",
     "output_type": "stream",
     "text": [
      "Some weights of the PyTorch model were not used when initializing the TF 2.0 model TFBertModel: ['cls.seq_relationship.bias', 'cls.predictions.transform.dense.weight', 'cls.predictions.transform.LayerNorm.bias', 'cls.predictions.transform.LayerNorm.weight', 'cls.predictions.bias', 'cls.seq_relationship.weight', 'cls.predictions.transform.dense.bias']\n",
      "- This IS expected if you are initializing TFBertModel from a PyTorch model trained on another task or with another architecture (e.g. initializing a TFBertForSequenceClassification model from a BertForPreTraining model).\n",
      "- This IS NOT expected if you are initializing TFBertModel from a PyTorch model that you expect to be exactly identical (e.g. initializing a TFBertForSequenceClassification model from a BertForSequenceClassification model).\n",
      "All the weights of TFBertModel were initialized from the PyTorch model.\n",
      "If your task is similar to the task the model of the checkpoint was trained on, you can already use TFBertModel for predictions without further training.\n"
     ]
    }
   ],
   "source": [
    "model_name = 'bert-base-uncased'\n",
    "tokenizer = BertTokenizer.from_pretrained(model_name)\n",
    "model = TFBertModel.from_pretrained(model_name)"
   ]
  },
  {
   "cell_type": "code",
   "execution_count": 60,
   "id": "aea70442-cc02-4c1f-95cb-1bce6751219b",
   "metadata": {},
   "outputs": [],
   "source": [
    "def get_bert_embeddings_tf(text, pooling, layer_number):\n",
    "    inputs = tokenizer(text, return_tensors=\"tf\", padding=True, truncation=True, max_length=512)\n",
    "    outputs = model(inputs, output_hidden_states=True)\n",
    "    layer_hidden_states = outputs.hidden_states[layer_number]\n",
    "\n",
    "    if pooling == \"mean\":\n",
    "        return tf.reduce_mean(layer_hidden_states, axis=1)\n",
    "    elif pooling == \"max\":\n",
    "        return tf.reduce_max(layer_hidden_states, axis=1)"
   ]
  },
  {
   "cell_type": "markdown",
   "id": "4102bdb7-ad8a-48e8-988d-52e2d9922626",
   "metadata": {},
   "source": [
    "Create the embeddings, specify the layer number"
   ]
  },
  {
   "cell_type": "code",
   "execution_count": 61,
   "id": "e7f42acf-a5df-4791-ac07-e2949011d06a",
   "metadata": {},
   "outputs": [
    {
     "name": "stderr",
     "output_type": "stream",
     "text": [
      "100%|██████████| 2366/2366 [04:08<00:00,  9.54it/s]\n"
     ]
    }
   ],
   "source": [
    "embeddings = []\n",
    "for problem_description in tqdm(X):\n",
    "    embedding_tensor = get_bert_embeddings_tf(problem_description, \"mean\", 1)\n",
    "    embedding_array = embedding_tensor.numpy().squeeze()\n",
    "    embeddings.append(embedding_array)"
   ]
  },
  {
   "cell_type": "markdown",
   "id": "54fac3c3-d7d2-4237-a030-a8bc450375af",
   "metadata": {},
   "source": [
    "### Intermezzo: Embedding projector"
   ]
  },
  {
   "cell_type": "code",
   "execution_count": 62,
   "id": "beafb8ff-c156-46c5-87af-b7a087ac819f",
   "metadata": {},
   "outputs": [],
   "source": [
    "embeddings_df = pd.DataFrame(embeddings)\n",
    "embeddings_df.to_csv(f\"{EXPERIMENT_NAME}_embeddings.tsv\", sep='\\t', index=False, header=False)\n",
    "\n",
    "problem_names = [problem_name for problem_name in problems if problems[problem_name][\"content\"]]\n",
    "target_class = [problems[problem_name][\"difficulty\"] for problem_name in problems if problems[problem_name][\"content\"]]\n",
    "metadata_df = pd.DataFrame({'Text Label': problem_names, 'Target Label': target_class})\n",
    "metadata_df.to_csv(f\"{EXPERIMENT_NAME}_embeddings_metadata.tsv\", sep='\\t', index=False, header=True)"
   ]
  },
  {
   "cell_type": "markdown",
   "id": "e6f829e2-2089-4867-bac4-88aacc18db72",
   "metadata": {},
   "source": [
    "## Build train, test and validation datasets"
   ]
  },
  {
   "cell_type": "code",
   "execution_count": 63,
   "id": "bb1b3734-ad9e-411d-87ee-7bf94be1d055",
   "metadata": {},
   "outputs": [],
   "source": [
    "def downsample_dataset(features, labels):\n",
    "    \"\"\"\n",
    "    Downsamples the dataset to have an equal distribution of classes.\n",
    "\n",
    "    Parameters:\n",
    "    X (list): Feature data.\n",
    "    y (list): Corresponding labels.\n",
    "\n",
    "    Returns:\n",
    "    tuple: Downsampled feature data and labels.\n",
    "    \"\"\"\n",
    "    paired_data = list(zip(features, labels))\n",
    "    class_distribution = Counter(labels)\n",
    "\n",
    "    min_samples = min(class_distribution.values())\n",
    "\n",
    "    downsampled_data = []\n",
    "    class_counts = {cls: 0 for cls in class_distribution.keys()}\n",
    "\n",
    "    for data, label in paired_data:\n",
    "        if class_counts[label] < min_samples:\n",
    "            downsampled_data.append((data, label))\n",
    "            class_counts[label] += 1\n",
    "\n",
    "    features_downsampled, labels_downsampled = zip(*downsampled_data)\n",
    "\n",
    "    return list(features_downsampled), list(labels_downsampled)"
   ]
  },
  {
   "cell_type": "code",
   "execution_count": 64,
   "id": "c821d757-cf79-4e31-8fe7-da5a09652968",
   "metadata": {},
   "outputs": [],
   "source": [
    "X, y = downsample_dataset(embeddings, y)"
   ]
  },
  {
   "cell_type": "code",
   "execution_count": 65,
   "id": "5e5f785c-95dc-4e67-880d-d1649782df52",
   "metadata": {},
   "outputs": [],
   "source": [
    "X_train, X_val, y_train, y_val = train_test_split(X, y, test_size=0.3, random_state=SEED, stratify=y)\n",
    "X_val, X_test, y_val, y_test = train_test_split(X_val, y_val, test_size=0.5, random_state=SEED, stratify=y_val)\n",
    "\n",
    "X_train, X_val, X_test, y_train, y_val, y_test = np.array(X_train), np.array(X_val), np.array(X_test), np.array(y_train), np.array(y_val), np.array(y_test)"
   ]
  },
  {
   "cell_type": "code",
   "execution_count": 66,
   "id": "656a81c4-1b7d-43e0-9f9c-6363b23747e9",
   "metadata": {},
   "outputs": [],
   "source": [
    "BATCH_SIZE = 32\n",
    "\n",
    "train = tf.data.Dataset.from_tensor_slices((X_train, y_train)).batch(BATCH_SIZE).prefetch(tf.data.AUTOTUNE)\n",
    "validation = tf.data.Dataset.from_tensor_slices((X_val, y_val)).batch(BATCH_SIZE).prefetch(tf.data.AUTOTUNE)"
   ]
  },
  {
   "cell_type": "markdown",
   "id": "aa12fe48",
   "metadata": {},
   "source": [
    "## Build Dense network"
   ]
  },
  {
   "cell_type": "code",
   "execution_count": 67,
   "id": "111c09a1-2e77-4940-af3c-b6856caae36f",
   "metadata": {},
   "outputs": [],
   "source": [
    "def dense_block(input, units, activation, l1_value, l2_value, dropout_rate, use_batch_norm):\n",
    "    hidden = tf.keras.layers.Dense(\n",
    "        units=units,\n",
    "        activation=activation,\n",
    "        kernel_regularizer=l1_l2(l1=l1_value, l2=l2_value)\n",
    "    )(input)\n",
    "    \n",
    "    if use_batch_norm:\n",
    "        hidden = tf.keras.layers.BatchNormalization()(hidden)\n",
    "        \n",
    "    dropout = tf.keras.layers.Dropout(dropout_rate)(hidden)\n",
    "    \n",
    "    return dropout"
   ]
  },
  {
   "cell_type": "code",
   "execution_count": 68,
   "id": "33429325-69fe-4bd1-b083-011a61086218",
   "metadata": {},
   "outputs": [],
   "source": [
    "def build_model(hp):\n",
    "    input_shape = (X_train.shape[1],)\n",
    "    input = tf.keras.layers.Input(shape=input_shape)\n",
    "    \n",
    "    # x = tf.keras.layers.Reshape((input_shape[0], 1))(input_layer)\n",
    "    \n",
    "    l1_value = hp.Float('l1', min_value=1e-5, max_value=1e-2, sampling='log')\n",
    "    l2_value = hp.Float('l2', min_value=1e-5, max_value=1e-2, sampling='log')\n",
    "    \n",
    "    # for i in range(hp.Int('num_conv_blocks', 1, 5)):\n",
    "    #    num_filters = hp.Int(f'filters_{i+1}', 16, 512, step=16)\n",
    "    #    kernel_size = hp.Int(f'kernel_size_{i+1}', 3, 7)\n",
    "    #    x = tf.keras.layers.Conv1D(filters=num_filters, kernel_size=kernel_size, activation='relu', kernel_regularizer=l1_l2(l1=l1_value, l2=l2_value))(x)\n",
    "    #    x = tf.keras.layers.BatchNormalization()(x)\n",
    "    #    x = tf.keras.layers.MaxPooling1D(pool_size=2)(x)\n",
    "    #    x = tf.keras.layers.Dropout(rate=hp.Float('conv_dropout', min_value=0.0, max_value=0.5))(x)\n",
    "\n",
    "    # x = tf.keras.layers.Flatten()(x)\n",
    "    \n",
    "    hp_number_of_hidden_layers = hp.Int('number_of_hidden_layers', 1, 3)\n",
    "    hidden = input\n",
    "    for i in range(hp_number_of_hidden_layers):\n",
    "        hidden = dense_block(\n",
    "            hidden,\n",
    "            units=hp.Int(f'units_{i+1}', min_value=32, max_value=4096, step=32),\n",
    "            activation=hp.Choice(f'activation_{i+1}', values=['relu', 'elu', 'selu', 'tanh']),\n",
    "            l1_value=l1_value,\n",
    "            l2_value=l2_value,\n",
    "            dropout_rate=hp.Float('dropout', min_value=0.0, max_value=0.5, default=0.25, step=0.05),\n",
    "            use_batch_norm=hp.Boolean('use_batch_norm', default=False)\n",
    "        )\n",
    "    \n",
    "    output = tf.keras.layers.Dense(units=3, activation=tf.nn.softmax)(hidden)\n",
    "    \n",
    "    model = tf.keras.Model(inputs=input, outputs=output)\n",
    "    \n",
    "    hp_initial_lr = hp.Choice('initial_lr', [1e-2, 1e-3, 1e-4])\n",
    "    hp_sgd_momentum = hp.Choice('sgd_momentum', values=[.8, .9])\n",
    "    hp_optimizer_name = hp.Choice('optimizer', values=['adam', 'sgd', 'rmsprop', 'adagrad'])\n",
    "    if hp_optimizer_name == 'adam':\n",
    "        optimizer = tf.keras.optimizers.Adam(learning_rate=hp_initial_lr)\n",
    "    elif hp_optimizer_name == 'sgd':\n",
    "        optimizer = tf.keras.optimizers.experimental.SGD(learning_rate=hp_initial_lr, momentum=hp_sgd_momentum, nesterov=True)\n",
    "    elif hp_optimizer_name == 'rmsprop':\n",
    "        optimizer = tf.keras.optimizers.experimental.RMSprop(learning_rate=hp_initial_lr)\n",
    "    elif hp_optimizer_name == 'adagrad':\n",
    "        optimizer = tf.keras.optimizers.experimental.Adagrad(learning_rate=hp_initial_lr)\n",
    "    \n",
    "    model.compile(optimizer=optimizer,\n",
    "                  loss=tf.keras.losses.SparseCategoricalCrossentropy(),\n",
    "                  metrics=[tf.keras.metrics.SparseCategoricalAccuracy()])\n",
    "    \n",
    "    return model"
   ]
  },
  {
   "cell_type": "markdown",
   "id": "d4262929-3bc2-4a0c-a107-60ba458b93c9",
   "metadata": {},
   "source": [
    "## Train & optimize"
   ]
  },
  {
   "cell_type": "markdown",
   "id": "20923de2-028f-48d6-9b6c-89948e215d43",
   "metadata": {},
   "source": [
    "Set up hyper search using the hyper band algorithm"
   ]
  },
  {
   "cell_type": "code",
   "execution_count": 69,
   "id": "ccbcd5b6-adde-4092-a606-a49202fa6456",
   "metadata": {},
   "outputs": [],
   "source": [
    "tuner = kt.Hyperband(\n",
    "    build_model,\n",
    "    objective='val_sparse_categorical_accuracy',\n",
    "    max_epochs=100,\n",
    "    hyperband_iterations=1,\n",
    "    directory=EXPERIMENT_NAME,\n",
    "    project_name='lc-difficulty-estimator',\n",
    "    seed=SEED\n",
    ")"
   ]
  },
  {
   "cell_type": "markdown",
   "id": "a3843d4e-10b9-4667-89cc-7a04b3b054f6",
   "metadata": {},
   "source": [
    "Start search for the best hyperparameters given the current datasets"
   ]
  },
  {
   "cell_type": "code",
   "execution_count": 70,
   "id": "86850d6b-c5b4-4959-82ba-660765c42ef1",
   "metadata": {},
   "outputs": [
    {
     "name": "stdout",
     "output_type": "stream",
     "text": [
      "Trial 254 Complete [00h 00m 05s]\n",
      "val_sparse_categorical_accuracy: 0.4458874464035034\n",
      "\n",
      "Best val_sparse_categorical_accuracy So Far: 0.6017315983772278\n",
      "Total elapsed time: 00h 11m 50s\n"
     ]
    }
   ],
   "source": [
    "tuner.search(\n",
    "    train,\n",
    "    callbacks=[\n",
    "        tf.keras.callbacks.LearningRateScheduler(\n",
    "           CosineDecay(1e-3, X_train.shape[0] // BATCH_SIZE * 100)\n",
    "        ),\n",
    "        tf.keras.callbacks.ReduceLROnPlateau(\n",
    "            monitor='val_loss',\n",
    "            factor=0.1,\n",
    "            patience=10\n",
    "        ),\n",
    "        tf.keras.callbacks.EarlyStopping(\n",
    "            monitor='val_loss',\n",
    "            mode='min',\n",
    "            patience=2,\n",
    "            verbose=1,\n",
    "            restore_best_weights=True\n",
    "        )\n",
    "    ],\n",
    "    validation_data=validation\n",
    ")"
   ]
  },
  {
   "cell_type": "markdown",
   "id": "fc0ee5bb-40a5-418b-a64a-f9dd35e84182",
   "metadata": {},
   "source": [
    "Get the optimal hyperparameters"
   ]
  },
  {
   "cell_type": "code",
   "execution_count": 71,
   "id": "a69304ac-97f1-417a-8a70-0f4afeb76d69",
   "metadata": {},
   "outputs": [
    {
     "data": {
      "text/plain": [
       "{'l1': 2.2472031444165876e-05,\n",
       " 'l2': 1.2650639561463205e-05,\n",
       " 'number_of_hidden_layers': 1,\n",
       " 'units_1': 960,\n",
       " 'activation_1': 'selu',\n",
       " 'dropout': 0.1,\n",
       " 'use_batch_norm': False,\n",
       " 'initial_lr': 0.01,\n",
       " 'sgd_momentum': 0.9,\n",
       " 'optimizer': 'sgd',\n",
       " 'units_2': 256,\n",
       " 'activation_2': 'selu',\n",
       " 'units_3': 2656,\n",
       " 'activation_3': 'tanh',\n",
       " 'tuner/epochs': 34,\n",
       " 'tuner/initial_epoch': 12,\n",
       " 'tuner/bracket': 4,\n",
       " 'tuner/round': 3,\n",
       " 'tuner/trial_id': '0135'}"
      ]
     },
     "execution_count": 71,
     "metadata": {},
     "output_type": "execute_result"
    }
   ],
   "source": [
    "best_hps=tuner.get_best_hyperparameters(num_trials=1)[0]\n",
    "best_hps.values"
   ]
  },
  {
   "cell_type": "code",
   "execution_count": 72,
   "id": "e4f4ac75-59ab-42d6-b3ba-0f0207d25330",
   "metadata": {},
   "outputs": [],
   "source": [
    "with open(f\"{EXPERIMENT_NAME}_hps.json\", \"w\") as f:\n",
    "    json.dump(best_hps.values, f)"
   ]
  },
  {
   "cell_type": "markdown",
   "id": "94981f88-5ceb-4b07-81f5-8545fb825f11",
   "metadata": {},
   "source": [
    "Find the optimal number of epochs to train the model with the hyperparameters obtained from the search"
   ]
  },
  {
   "cell_type": "code",
   "execution_count": 73,
   "id": "7da94072-d9e1-44a7-8781-a7564eee958e",
   "metadata": {},
   "outputs": [
    {
     "name": "stdout",
     "output_type": "stream",
     "text": [
      "Epoch 1/50\n",
      "34/34 [==============================] - 0s 5ms/step - loss: 1.6068 - sparse_categorical_accuracy: 0.3930 - val_loss: 1.5465 - val_sparse_categorical_accuracy: 0.4935 - lr: 0.0010\n",
      "Epoch 2/50\n",
      "34/34 [==============================] - 0s 2ms/step - loss: 1.5427 - sparse_categorical_accuracy: 0.4569 - val_loss: 1.5055 - val_sparse_categorical_accuracy: 0.5195 - lr: 1.0000e-03\n",
      "Epoch 3/50\n",
      "34/34 [==============================] - 0s 2ms/step - loss: 1.5146 - sparse_categorical_accuracy: 0.4866 - val_loss: 1.4844 - val_sparse_categorical_accuracy: 0.5238 - lr: 1.0000e-03\n",
      "Epoch 4/50\n",
      "34/34 [==============================] - 0s 2ms/step - loss: 1.5032 - sparse_categorical_accuracy: 0.4958 - val_loss: 1.4718 - val_sparse_categorical_accuracy: 0.5325 - lr: 1.0000e-03\n",
      "Epoch 5/50\n",
      "34/34 [==============================] - 0s 2ms/step - loss: 1.4853 - sparse_categorical_accuracy: 0.5218 - val_loss: 1.4626 - val_sparse_categorical_accuracy: 0.5584 - lr: 1.0000e-03\n",
      "Epoch 6/50\n",
      "34/34 [==============================] - 0s 2ms/step - loss: 1.4794 - sparse_categorical_accuracy: 0.5209 - val_loss: 1.4548 - val_sparse_categorical_accuracy: 0.5498 - lr: 9.9999e-04\n",
      "Epoch 7/50\n",
      "34/34 [==============================] - 0s 2ms/step - loss: 1.4722 - sparse_categorical_accuracy: 0.5283 - val_loss: 1.4490 - val_sparse_categorical_accuracy: 0.5628 - lr: 9.9999e-04\n",
      "Epoch 8/50\n",
      "34/34 [==============================] - 0s 2ms/step - loss: 1.4585 - sparse_categorical_accuracy: 0.5385 - val_loss: 1.4441 - val_sparse_categorical_accuracy: 0.5844 - lr: 9.9999e-04\n",
      "Epoch 9/50\n",
      "34/34 [==============================] - 0s 2ms/step - loss: 1.4488 - sparse_categorical_accuracy: 0.5366 - val_loss: 1.4400 - val_sparse_categorical_accuracy: 0.5844 - lr: 9.9999e-04\n",
      "Epoch 10/50\n",
      "34/34 [==============================] - 0s 3ms/step - loss: 1.4371 - sparse_categorical_accuracy: 0.5551 - val_loss: 1.4362 - val_sparse_categorical_accuracy: 0.5671 - lr: 9.9998e-04\n",
      "Epoch 11/50\n",
      "34/34 [==============================] - 0s 2ms/step - loss: 1.4342 - sparse_categorical_accuracy: 0.5514 - val_loss: 1.4336 - val_sparse_categorical_accuracy: 0.5714 - lr: 9.9998e-04\n",
      "Epoch 12/50\n",
      "34/34 [==============================] - 0s 3ms/step - loss: 1.4320 - sparse_categorical_accuracy: 0.5700 - val_loss: 1.4296 - val_sparse_categorical_accuracy: 0.5801 - lr: 9.9997e-04\n",
      "Epoch 13/50\n",
      "34/34 [==============================] - 0s 3ms/step - loss: 1.4307 - sparse_categorical_accuracy: 0.5570 - val_loss: 1.4268 - val_sparse_categorical_accuracy: 0.5801 - lr: 9.9997e-04\n",
      "Epoch 14/50\n",
      "34/34 [==============================] - 0s 3ms/step - loss: 1.4186 - sparse_categorical_accuracy: 0.5774 - val_loss: 1.4253 - val_sparse_categorical_accuracy: 0.5628 - lr: 9.9996e-04\n",
      "Epoch 15/50\n",
      "34/34 [==============================] - 0s 3ms/step - loss: 1.4061 - sparse_categorical_accuracy: 0.5811 - val_loss: 1.4224 - val_sparse_categorical_accuracy: 0.5844 - lr: 9.9996e-04\n",
      "Epoch 16/50\n",
      "34/34 [==============================] - 0s 3ms/step - loss: 1.4016 - sparse_categorical_accuracy: 0.5931 - val_loss: 1.4202 - val_sparse_categorical_accuracy: 0.5714 - lr: 9.9995e-04\n",
      "Epoch 17/50\n",
      "34/34 [==============================] - 0s 2ms/step - loss: 1.4029 - sparse_categorical_accuracy: 0.5792 - val_loss: 1.4188 - val_sparse_categorical_accuracy: 0.5844 - lr: 9.9994e-04\n",
      "Epoch 18/50\n",
      "34/34 [==============================] - 0s 3ms/step - loss: 1.4054 - sparse_categorical_accuracy: 0.5728 - val_loss: 1.4172 - val_sparse_categorical_accuracy: 0.5801 - lr: 9.9993e-04\n",
      "Epoch 19/50\n",
      "34/34 [==============================] - 0s 2ms/step - loss: 1.3943 - sparse_categorical_accuracy: 0.5894 - val_loss: 1.4158 - val_sparse_categorical_accuracy: 0.5758 - lr: 9.9993e-04\n",
      "Epoch 20/50\n",
      "34/34 [==============================] - 0s 3ms/step - loss: 1.3961 - sparse_categorical_accuracy: 0.5987 - val_loss: 1.4145 - val_sparse_categorical_accuracy: 0.5758 - lr: 9.9992e-04\n",
      "Epoch 21/50\n",
      "34/34 [==============================] - 0s 2ms/step - loss: 1.3904 - sparse_categorical_accuracy: 0.5829 - val_loss: 1.4127 - val_sparse_categorical_accuracy: 0.5758 - lr: 9.9991e-04\n",
      "Epoch 22/50\n",
      "34/34 [==============================] - 0s 3ms/step - loss: 1.3857 - sparse_categorical_accuracy: 0.5904 - val_loss: 1.4124 - val_sparse_categorical_accuracy: 0.5758 - lr: 9.9990e-04\n",
      "Epoch 23/50\n",
      "34/34 [==============================] - 0s 3ms/step - loss: 1.3806 - sparse_categorical_accuracy: 0.6015 - val_loss: 1.4112 - val_sparse_categorical_accuracy: 0.5844 - lr: 9.9989e-04\n",
      "Epoch 24/50\n",
      "34/34 [==============================] - 0s 3ms/step - loss: 1.3746 - sparse_categorical_accuracy: 0.6154 - val_loss: 1.4095 - val_sparse_categorical_accuracy: 0.5844 - lr: 9.9988e-04\n",
      "Epoch 25/50\n",
      "34/34 [==============================] - 0s 3ms/step - loss: 1.3676 - sparse_categorical_accuracy: 0.6043 - val_loss: 1.4080 - val_sparse_categorical_accuracy: 0.5714 - lr: 9.9987e-04\n",
      "Epoch 26/50\n",
      "34/34 [==============================] - 0s 3ms/step - loss: 1.3652 - sparse_categorical_accuracy: 0.6098 - val_loss: 1.4075 - val_sparse_categorical_accuracy: 0.5758 - lr: 9.9986e-04\n",
      "Epoch 27/50\n",
      "34/34 [==============================] - 0s 3ms/step - loss: 1.3658 - sparse_categorical_accuracy: 0.5968 - val_loss: 1.4061 - val_sparse_categorical_accuracy: 0.5714 - lr: 9.9985e-04\n",
      "Epoch 28/50\n",
      "34/34 [==============================] - 0s 3ms/step - loss: 1.3652 - sparse_categorical_accuracy: 0.6098 - val_loss: 1.4058 - val_sparse_categorical_accuracy: 0.5714 - lr: 9.9983e-04\n",
      "Epoch 29/50\n",
      "34/34 [==============================] - 0s 3ms/step - loss: 1.3538 - sparse_categorical_accuracy: 0.6135 - val_loss: 1.4055 - val_sparse_categorical_accuracy: 0.5801 - lr: 9.9982e-04\n",
      "Epoch 30/50\n",
      "34/34 [==============================] - 0s 3ms/step - loss: 1.3516 - sparse_categorical_accuracy: 0.6135 - val_loss: 1.4045 - val_sparse_categorical_accuracy: 0.5801 - lr: 9.9981e-04\n",
      "Epoch 31/50\n",
      "34/34 [==============================] - 0s 3ms/step - loss: 1.3484 - sparse_categorical_accuracy: 0.6228 - val_loss: 1.4037 - val_sparse_categorical_accuracy: 0.5801 - lr: 9.9980e-04\n",
      "Epoch 32/50\n",
      "34/34 [==============================] - 0s 3ms/step - loss: 1.3498 - sparse_categorical_accuracy: 0.6163 - val_loss: 1.4031 - val_sparse_categorical_accuracy: 0.5758 - lr: 9.9978e-04\n",
      "Epoch 33/50\n",
      "34/34 [==============================] - 0s 2ms/step - loss: 1.3461 - sparse_categorical_accuracy: 0.6247 - val_loss: 1.4024 - val_sparse_categorical_accuracy: 0.5801 - lr: 9.9977e-04\n",
      "Epoch 34/50\n",
      "34/34 [==============================] - 0s 2ms/step - loss: 1.3377 - sparse_categorical_accuracy: 0.6209 - val_loss: 1.4022 - val_sparse_categorical_accuracy: 0.5758 - lr: 9.9975e-04\n",
      "Epoch 35/50\n",
      "34/34 [==============================] - 0s 2ms/step - loss: 1.3366 - sparse_categorical_accuracy: 0.6274 - val_loss: 1.4021 - val_sparse_categorical_accuracy: 0.5844 - lr: 9.9974e-04\n",
      "Epoch 36/50\n",
      "34/34 [==============================] - 0s 3ms/step - loss: 1.3282 - sparse_categorical_accuracy: 0.6302 - val_loss: 1.4014 - val_sparse_categorical_accuracy: 0.5801 - lr: 9.9972e-04\n",
      "Epoch 37/50\n",
      "34/34 [==============================] - 0s 3ms/step - loss: 1.3307 - sparse_categorical_accuracy: 0.6413 - val_loss: 1.4010 - val_sparse_categorical_accuracy: 0.5801 - lr: 9.9971e-04\n",
      "Epoch 38/50\n",
      "34/34 [==============================] - 0s 3ms/step - loss: 1.3306 - sparse_categorical_accuracy: 0.6358 - val_loss: 1.4010 - val_sparse_categorical_accuracy: 0.5758 - lr: 9.9969e-04\n",
      "Epoch 39/50\n",
      "34/34 [==============================] - 0s 2ms/step - loss: 1.3206 - sparse_categorical_accuracy: 0.6432 - val_loss: 1.4010 - val_sparse_categorical_accuracy: 0.5801 - lr: 9.9967e-04\n",
      "Epoch 40/50\n",
      "34/34 [==============================] - 0s 2ms/step - loss: 1.3199 - sparse_categorical_accuracy: 0.6423 - val_loss: 1.4012 - val_sparse_categorical_accuracy: 0.5931 - lr: 9.9966e-04\n",
      "Epoch 41/50\n",
      "34/34 [==============================] - 0s 2ms/step - loss: 1.3162 - sparse_categorical_accuracy: 0.6339 - val_loss: 1.4010 - val_sparse_categorical_accuracy: 0.5931 - lr: 9.9964e-04\n",
      "Epoch 42/50\n",
      "34/34 [==============================] - 0s 3ms/step - loss: 1.3175 - sparse_categorical_accuracy: 0.6358 - val_loss: 1.4011 - val_sparse_categorical_accuracy: 0.5758 - lr: 9.9962e-04\n",
      "Epoch 43/50\n",
      "34/34 [==============================] - 0s 2ms/step - loss: 1.3122 - sparse_categorical_accuracy: 0.6330 - val_loss: 1.3999 - val_sparse_categorical_accuracy: 0.5758 - lr: 9.9960e-04\n",
      "Epoch 44/50\n",
      "34/34 [==============================] - 0s 2ms/step - loss: 1.3058 - sparse_categorical_accuracy: 0.6450 - val_loss: 1.4000 - val_sparse_categorical_accuracy: 0.5801 - lr: 9.9958e-04\n",
      "Epoch 45/50\n",
      "34/34 [==============================] - 0s 2ms/step - loss: 1.3056 - sparse_categorical_accuracy: 0.6432 - val_loss: 1.4008 - val_sparse_categorical_accuracy: 0.5887 - lr: 9.9956e-04\n",
      "Epoch 46/50\n",
      "34/34 [==============================] - 0s 3ms/step - loss: 1.3009 - sparse_categorical_accuracy: 0.6450 - val_loss: 1.3994 - val_sparse_categorical_accuracy: 0.5801 - lr: 9.9954e-04\n",
      "Epoch 47/50\n",
      "34/34 [==============================] - 0s 3ms/step - loss: 1.2986 - sparse_categorical_accuracy: 0.6469 - val_loss: 1.3995 - val_sparse_categorical_accuracy: 0.5758 - lr: 9.9952e-04\n",
      "Epoch 48/50\n",
      "34/34 [==============================] - 0s 2ms/step - loss: 1.3006 - sparse_categorical_accuracy: 0.6432 - val_loss: 1.3999 - val_sparse_categorical_accuracy: 0.5801 - lr: 9.9950e-04\n",
      "Epoch 49/50\n",
      "34/34 [==============================] - 0s 3ms/step - loss: 1.2962 - sparse_categorical_accuracy: 0.6506 - val_loss: 1.3991 - val_sparse_categorical_accuracy: 0.5844 - lr: 9.9948e-04\n",
      "Epoch 50/50\n",
      "34/34 [==============================] - 0s 2ms/step - loss: 1.2913 - sparse_categorical_accuracy: 0.6534 - val_loss: 1.4000 - val_sparse_categorical_accuracy: 0.5758 - lr: 9.9946e-04\n"
     ]
    },
    {
     "data": {
      "text/plain": [
       "'Best epoch: 40'"
      ]
     },
     "execution_count": 73,
     "metadata": {},
     "output_type": "execute_result"
    }
   ],
   "source": [
    "best_hps_model = tuner.hypermodel.build(best_hps)\n",
    "best_hps_history = best_hps_model.fit(\n",
    "    train,\n",
    "    epochs=50,\n",
    "    callbacks=[\n",
    "        tf.keras.callbacks.LearningRateScheduler(\n",
    "            CosineDecay(1e-3, X_train.shape[0] // BATCH_SIZE * 100)\n",
    "        ),\n",
    "        tf.keras.callbacks.ReduceLROnPlateau(\n",
    "            monitor='val_loss',\n",
    "            factor=0.1,\n",
    "            patience=10\n",
    "        )\n",
    "    ],\n",
    "    validation_data=validation\n",
    ")\n",
    "\n",
    "val_acc_per_epoch = best_hps_history.history['val_sparse_categorical_accuracy']\n",
    "best_epoch = val_acc_per_epoch.index(max(val_acc_per_epoch)) + 1\n",
    "f\"Best epoch: {best_epoch}\""
   ]
  },
  {
   "cell_type": "markdown",
   "id": "a8ef849e-e007-416b-9df2-9bf45d36b346",
   "metadata": {},
   "source": [
    "Re-instantiate the hypermodel and train it with the optimal number of epochs from above"
   ]
  },
  {
   "cell_type": "code",
   "execution_count": 74,
   "id": "348dfbcc-a278-4974-bf7e-66f03def611a",
   "metadata": {},
   "outputs": [
    {
     "name": "stdout",
     "output_type": "stream",
     "text": [
      "Epoch 1/10\n",
      "34/34 [==============================] - 1s 5ms/step - loss: 1.6007 - sparse_categorical_accuracy: 0.3605 - val_loss: 1.5205 - val_sparse_categorical_accuracy: 0.5108 - lr: 0.0010\n",
      "Epoch 2/10\n",
      "34/34 [==============================] - 0s 2ms/step - loss: 1.5309 - sparse_categorical_accuracy: 0.4680 - val_loss: 1.4877 - val_sparse_categorical_accuracy: 0.5368 - lr: 1.0000e-03\n",
      "Epoch 3/10\n",
      "34/34 [==============================] - 0s 2ms/step - loss: 1.5055 - sparse_categorical_accuracy: 0.5023 - val_loss: 1.4710 - val_sparse_categorical_accuracy: 0.5455 - lr: 1.0000e-03\n",
      "Epoch 4/10\n",
      "34/34 [==============================] - 0s 3ms/step - loss: 1.4997 - sparse_categorical_accuracy: 0.5023 - val_loss: 1.4601 - val_sparse_categorical_accuracy: 0.5368 - lr: 1.0000e-03\n",
      "Epoch 5/10\n",
      "34/34 [==============================] - 0s 2ms/step - loss: 1.4811 - sparse_categorical_accuracy: 0.5162 - val_loss: 1.4514 - val_sparse_categorical_accuracy: 0.5584 - lr: 1.0000e-03\n",
      "Epoch 6/10\n",
      "34/34 [==============================] - 0s 2ms/step - loss: 1.4763 - sparse_categorical_accuracy: 0.5199 - val_loss: 1.4437 - val_sparse_categorical_accuracy: 0.5541 - lr: 9.9999e-04\n",
      "Epoch 7/10\n",
      "34/34 [==============================] - 0s 3ms/step - loss: 1.4686 - sparse_categorical_accuracy: 0.5218 - val_loss: 1.4381 - val_sparse_categorical_accuracy: 0.5801 - lr: 9.9999e-04\n",
      "Epoch 8/10\n",
      "34/34 [==============================] - 0s 3ms/step - loss: 1.4541 - sparse_categorical_accuracy: 0.5348 - val_loss: 1.4332 - val_sparse_categorical_accuracy: 0.5758 - lr: 9.9999e-04\n",
      "Epoch 9/10\n",
      "34/34 [==============================] - 0s 3ms/step - loss: 1.4525 - sparse_categorical_accuracy: 0.5412 - val_loss: 1.4280 - val_sparse_categorical_accuracy: 0.5758 - lr: 9.9999e-04\n",
      "Epoch 10/10\n",
      "34/34 [==============================] - 0s 2ms/step - loss: 1.4415 - sparse_categorical_accuracy: 0.5505 - val_loss: 1.4238 - val_sparse_categorical_accuracy: 0.5844 - lr: 9.9998e-04\n"
     ]
    }
   ],
   "source": [
    "hypermodel = tuner.hypermodel.build(best_hps)\n",
    "hypermodel_history = hypermodel.fit(\n",
    "    train,\n",
    "    epochs=10,\n",
    "    callbacks=[\n",
    "        tf.keras.callbacks.LearningRateScheduler(\n",
    "            CosineDecay(1e-3, X_train.shape[0] // BATCH_SIZE * 100)\n",
    "        ),\n",
    "        tf.keras.callbacks.ReduceLROnPlateau(\n",
    "            monitor='val_loss',\n",
    "            factor=0.1,\n",
    "            patience=10\n",
    "        )\n",
    "    ],\n",
    "    validation_data=validation\n",
    ")"
   ]
  },
  {
   "cell_type": "markdown",
   "id": "b766a92e-c1f0-40d2-845e-b23091983935",
   "metadata": {},
   "source": [
    "Evaluate the model on the test data"
   ]
  },
  {
   "cell_type": "code",
   "execution_count": 75,
   "id": "108e543f-530d-49a5-95fe-f2d32aeeec6c",
   "metadata": {},
   "outputs": [
    {
     "name": "stdout",
     "output_type": "stream",
     "text": [
      "8/8 [==============================] - 0s 1ms/step - loss: 1.4795 - sparse_categorical_accuracy: 0.4914\n"
     ]
    },
    {
     "data": {
      "text/plain": [
       "[1.4794834852218628, 0.4913793206214905]"
      ]
     },
     "execution_count": 75,
     "metadata": {},
     "output_type": "execute_result"
    }
   ],
   "source": [
    "hypermodel.evaluate(X_test, y_test)"
   ]
  },
  {
   "cell_type": "markdown",
   "id": "53ca40f9-9da8-4447-a57d-eba30d9d85ef",
   "metadata": {},
   "source": [
    "Look at the distributions of predictions"
   ]
  },
  {
   "cell_type": "code",
   "execution_count": 76,
   "id": "c9ee24e9-37a1-4e15-8005-078062ad4b17",
   "metadata": {},
   "outputs": [
    {
     "name": "stdout",
     "output_type": "stream",
     "text": [
      "8/8 [==============================] - 0s 766us/step\n"
     ]
    },
    {
     "data": {
      "text/plain": [
       "array([[0.259, 0.286, 0.456],\n",
       "       [0.294, 0.204, 0.502],\n",
       "       [0.286, 0.275, 0.439],\n",
       "       [0.328, 0.517, 0.155],\n",
       "       [0.716, 0.195, 0.089],\n",
       "       [0.321, 0.323, 0.356],\n",
       "       [0.207, 0.267, 0.527],\n",
       "       [0.323, 0.471, 0.206],\n",
       "       [0.118, 0.185, 0.697],\n",
       "       [0.44 , 0.191, 0.368]], dtype=float32)"
      ]
     },
     "execution_count": 76,
     "metadata": {},
     "output_type": "execute_result"
    }
   ],
   "source": [
    "predictions = hypermodel.predict(X_test)\n",
    "predictions[:10]"
   ]
  },
  {
   "cell_type": "code",
   "execution_count": 77,
   "id": "ebbeeb41-17f9-48ce-89a3-2dbd3c9a3081",
   "metadata": {},
   "outputs": [],
   "source": [
    "hypermodel.save(f\"{EXPERIMENT_NAME}.h5\")"
   ]
  },
  {
   "cell_type": "code",
   "execution_count": 78,
   "id": "4e0873eb-6864-467b-917b-0bf744a530e1",
   "metadata": {},
   "outputs": [
    {
     "data": {
      "image/png": "[encoded data removed]",
      "text/plain": [
       "<Figure size 1200x1000 with 2 Axes>"
      ]
     },
     "metadata": {},
     "output_type": "display_data"
    }
   ],
   "source": [
    "predicted_labels = np.argmax(predictions, axis=1)\n",
    "cm = confusion_matrix(y_test, predicted_labels)\n",
    "\n",
    "plt.figure(figsize=(12, 10))\n",
    "\n",
    "class_labels = ['Easy', 'Medium', 'Hard']\n",
    "sns.heatmap(cm, annot=True, fmt='d', cmap='BuGn', xticklabels=class_labels, yticklabels=class_labels)\n",
    "plt.title(f'Confusion Matrix for {EXPERIMENT_NAME}')\n",
    "plt.ylabel('True Label')\n",
    "plt.xlabel('Predicted Label')\n",
    "plt.savefig(f\"{EXPERIMENT_NAME}.png\", dpi=300)\n",
    "plt.show()"
   ]
  },
  {
   "cell_type": "code",
   "execution_count": null,
   "id": "83bb34c6-f53c-4f38-a04d-d9e328ea5fdd",
   "metadata": {},
   "outputs": [],
   "source": []
  },
  {
   "cell_type": "code",
   "execution_count": null,
   "id": "f3be7891-5d0b-40fa-9a11-ff2273e1b4f6",
   "metadata": {},
   "outputs": [],
   "source": []
  }
 ],
 "metadata": {
  "kernelspec": {
   "display_name": "Python [conda env:root] *",
   "language": "python",
   "name": "conda-root-py"
  },
  "language_info": {
   "codemirror_mode": {
    "name": "ipython",
    "version": 3
   },
   "file_extension": ".py",
   "mimetype": "text/x-python",
   "name": "python",
   "nbconvert_exporter": "python",
   "pygments_lexer": "ipython3",
   "version": "3.10.8"
  }
 },
 "nbformat": 4,
 "nbformat_minor": 5
}
