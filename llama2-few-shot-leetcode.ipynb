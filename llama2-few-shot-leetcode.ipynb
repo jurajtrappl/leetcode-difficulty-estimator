{
 "cells": [
  {
   "cell_type": "code",
   "execution_count": 25,
   "id": "6872b025-ce06-427a-9f3b-912f5d63d15a",
   "metadata": {},
   "outputs": [
    {
     "name": "stdout",
     "output_type": "stream",
     "text": [
      "Note: you may need to restart the kernel to use updated packages.\n"
     ]
    }
   ],
   "source": [
    "%pip install -qU torch transformers accelerate bitsandbytes langchain matplotlib seaborn"
   ]
  },
  {
   "cell_type": "code",
   "execution_count": 26,
   "id": "6a867aab-f33c-4f12-b315-d24fcbcdcaad",
   "metadata": {},
   "outputs": [],
   "source": [
    "from bs4 import BeautifulSoup\n",
    "import json\n",
    "from json.decoder import JSONDecodeError\n",
    "from langchain.llms import HuggingFacePipeline\n",
    "from langchain.prompts import PromptTemplate\n",
    "from langchain.schema import BaseOutputParser\n",
    "import matplotlib.pyplot as plt\n",
    "import re\n",
    "import seaborn as sns\n",
    "from sklearn.metrics import confusion_matrix\n",
    "import torch\n",
    "from torch import cuda, bfloat16\n",
    "from tqdm import tqdm\n",
    "import transformers"
   ]
  },
  {
   "cell_type": "code",
   "execution_count": null,
   "id": "54c8cd3a-8ce2-4c93-87ce-df4808616d73",
   "metadata": {},
   "outputs": [],
   "source": [
    "class Llama2:\n",
    "    def __init__(self):\n",
    "        model_id = 'meta-llama/Llama-2-13b-chat-hf'\n",
    "\n",
    "        device = f'cuda:{cuda.current_device()}' if cuda.is_available() else 'cpu'\n",
    "\n",
    "        # set quantization configuration to load large model with less GPU memory\n",
    "        # this requires the `bitsandbytes` library\n",
    "        bnb_config = transformers.BitsAndBytesConfig(\n",
    "            load_in_4bit=True,\n",
    "            bnb_4bit_quant_type='nf4',\n",
    "            bnb_4bit_use_double_quant=True,\n",
    "            bnb_4bit_compute_dtype=bfloat16\n",
    "        )\n",
    "\n",
    "        # begin initializing HF items, you need an access token\n",
    "        hf_auth = TOKEN,
    "        model_config = transformers.AutoConfig.from_pretrained(\n",
    "            model_id,\n",
    "            token=hf_auth\n",
    "        )\n",
    "\n",
    "        model = transformers.AutoModelForCausalLM.from_pretrained(\n",
    "            model_id,\n",
    "            trust_remote_code=True,\n",
    "            config=model_config,\n",
    "            quantization_config=bnb_config,\n",
    "            device_map='auto',\n",
    "            token=hf_auth\n",
    "        )\n",
    "\n",
    "        # enable evaluation mode to allow model inference\n",
    "        model.eval()\n",
    "\n",
    "        print(f\"Model loaded on {device}\")\n",
    "\n",
    "        tokenizer = transformers.AutoTokenizer.from_pretrained(\n",
    "            model_id,\n",
    "            token=hf_auth\n",
    "        )\n",
    "\n",
    "        self._generate_text = transformers.pipeline(\n",
    "            model=model,\n",
    "            tokenizer=tokenizer,\n",
    "            task='text-generation',\n",
    "            temperature=0.1,  # 'randomness' of outputs, 0.0 is the min and 1.0 the max\n",
    "            max_new_tokens=1024,  # max number of tokens to generate in the output\n",
    "            repetition_penalty=1.1  # without this output begins repeating\n",
    "        )\n",
    "\n",
    "    @property\n",
    "    def pipeline(self):\n",
    "        return self._generate_text"
   ]
  },
  {
   "cell_type": "code",
   "execution_count": null,
   "id": "f96b110c-8325-47b0-986e-272238b42e4c",
   "metadata": {},
   "outputs": [],
   "source": [
    "llm = Llama2()\n",
    "llm_pipeline = HuggingFacePipeline(pipeline=llm.pipeline)"
   ]
  },
  {
   "cell_type": "code",
   "execution_count": null,
   "id": "c0c0db29-3181-4c2e-a970-137e86ca7c92",
   "metadata": {},
   "outputs": [],
   "source": [
    "class OutputParser(BaseOutputParser):\n",
    "    \"\"\"\n",
    "    Parse the output of an LLM.\n",
    "    \"\"\"\n",
    "\n",
    "    def parse(self, text: str):\n",
    "        \"\"\"\n",
    "        Parse the output of an LLM call.\n",
    "        \"\"\"\n",
    "        difficulties = [\"easy\", \"Easy\", \"medium\", \"Medium\", \"hard\", \"Hard\"]\n",
    "        \n",
    "        for difficulty in difficulties:\n",
    "            if difficulty in text:\n",
    "                return difficulty.lower()"
   ]
  },
  {
   "cell_type": "code",
   "execution_count": null,
   "id": "dba9d187-f8e4-42a8-a42b-192141cafa3f",
   "metadata": {},
   "outputs": [],
   "source": [
    "prompt = PromptTemplate.from_template(\n",
    "    \"\"\"\n",
    "    <s>[INST] <<SYS>>\n",
    "    Task: Given a programming problem description, predict its difficulty.\n",
    "    The difficulty can be one of easy, medium and hard.\n",
    "    \n",
    "    Example:\n",
    "    Given a programming problem description: {programming_problem_example_1}, the difficulty is:\n",
    "    easy\n",
    "\n",
    "    Example:\n",
    "    Given a programming problem description: {programming_problem_example_1}, the difficulty is:\n",
    "    medium\n",
    "    \n",
    "    Example:\n",
    "    Given a programming problem description: {programming_problem_example_1}, the difficulty is:\n",
    "    hard\n",
    "\n",
    "    <<SYS>>\n",
    "    Now, given a programming problem description: {programming_problem}, the difficulty is:\n",
    "    [/INST]\n",
    "    \"\"\"\n",
    ")"
   ]
  },
  {
   "cell_type": "code",
   "execution_count": null,
   "id": "cf471936-0170-460b-8b7a-0887460a6e87",
   "metadata": {},
   "outputs": [],
   "source": [
    "chain = prompt | llm_pipeline | OutputParser()"
   ]
  },
  {
   "cell_type": "code",
   "execution_count": null,
   "id": "0a219eda-f024-40cb-8bbb-331ff5462e0b",
   "metadata": {},
   "outputs": [],
   "source": [
    "programming_problem_example_1 = \"\"\"\n",
    "Given a 0-indexed integer array nums, return true if it can be made strictly increasing after removing exactly one element, or false otherwise.\n",
    "If the array is already strictly increasing, return true.\n",
    "The array nums is strictly increasing if nums[i - 1] < nums[i] for each index (1 <= i < nums.length).\n",
    "\"\"\"\n",
    "\n",
    "programming_problem_example_2 = \"\"\"\n",
    "You are a professional robber planning to rob houses along a street. Each house has a certain amount of money stashed.\n",
    "All houses at this place are arranged in a circle. That means the first house is the neighbor of the last one.\n",
    "Meanwhile, adjacent houses have a security system connected, and it will automatically contact the police if two adjacent houses were broken into on the same night.\n",
    "Given an integer array nums representing the amount of money of each house, return the maximum amount of money you can rob tonight without alerting the police.\n",
    "\"\"\"\n",
    "\n",
    "programming_problem_example_3 = \"\"\"\n",
    "Given a string n representing an integer, return the closest integer (not including itself), which is a palindrome. If there is a tie, return the smaller one.\n",
    "The closest is defined as the absolute difference minimized between two integers.\n",
    "\"\"\"\n",
    "\n",
    "used_problems_as_examples = [\"remove-one-element-to-make-the-array-strictly-increasing\", \"house-robber-ii\", \"find-the-closest-palindrome\"]"
   ]
  },
  {
   "cell_type": "code",
   "execution_count": null,
   "id": "1d22c141-48fd-490c-94c8-be8990b2faab",
   "metadata": {},
   "outputs": [],
   "source": [
    "with open('leetcode_problems_dataset.json', 'r') as f:\n",
    "    problems = json.load(f)\n",
    "        \n",
    "X, y = [], []\n",
    "for problem_name, problem_data in tqdm(problems.items()):\n",
    "    if problem_name in used_problems_as_examples:\n",
    "        continue\n",
    "    \n",
    "    if not problem_data[\"content\"]:\n",
    "        continue\n",
    "\n",
    "    X.append((problem_name, BeautifulSoup(problem_data[\"content\"], \"html.parser\").get_text()))\n",
    "    y.append(problem_data[\"difficulty\"])"
   ]
  },
  {
   "cell_type": "code",
   "execution_count": null,
   "id": "757ef84f-2e6e-437b-a5b8-650390c200cb",
   "metadata": {},
   "outputs": [],
   "source": [
    "tasks = [\n",
    "    {\n",
    "        \"programming_problem_example_1\": programming_problem_example_1,\n",
    "        \"programming_problem_example_2\": programming_problem_example_2,\n",
    "        \"programming_problem_example_3\": programming_problem_example_3,\n",
    "        \"programming_problem\": description,\n",
    "        \"target\": target.lower(),\n",
    "        \"problem_name\": problem_name\n",
    "        \n",
    "    } for (problem_name, description), target in zip(X, y)\n",
    "]"
   ]
  },
  {
   "cell_type": "code",
   "execution_count": null,
   "id": "f3a7ebe9-a78f-43b0-a9bf-1f86b08531cd",
   "metadata": {},
   "outputs": [],
   "source": [
    "results = []\n",
    "\n",
    "for i, task in enumerate(tasks):\n",
    "    if i % 100 == 0:\n",
    "        print(i)\n",
    "    \n",
    "    try:\n",
    "        results.append((task[\"problem_name\"], chain.invoke(task), task[\"target\"]))\n",
    "    except Exception as e:\n",
    "        print(e)\n",
    "    print(\"\\n\")"
   ]
  },
  {
   "cell_type": "code",
   "execution_count": null,
   "id": "8253988c-a73a-4344-9bb3-0f10576a52a4",
   "metadata": {},
   "outputs": [],
   "source": [
    "results"
   ]
  },
  {
   "cell_type": "code",
   "execution_count": null,
   "id": "b53ba4e6-8ef7-4b72-a1a8-9fdbcddfa93b",
   "metadata": {},
   "outputs": [],
   "source": [
    "with open(\"llama2-classification-results.txt\", \"w\", encoding=\"utf-8\") as f:\n",
    "    for res in results:\n",
    "        f.write(str(res) + \"\\n\")"
   ]
  },
  {
   "cell_type": "code",
   "execution_count": 16,
   "id": "98a89216-0f7a-4c2a-9c34-4c27b31afc91",
   "metadata": {},
   "outputs": [
    {
     "data": {
      "text/plain": [
       "0.3952602623783326"
      ]
     },
     "execution_count": 16,
     "metadata": {},
     "output_type": "execute_result"
    }
   ],
   "source": [
    "total = len(results)\n",
    "correct = 0\n",
    "for _, prediction, target in results:\n",
    "    correct += prediction == target\n",
    "    \n",
    "correct / total"
   ]
  },
  {
   "cell_type": "code",
   "execution_count": 29,
   "id": "1429532c-1a18-4f90-9b0b-b95a8686c0f7",
   "metadata": {},
   "outputs": [
    {
     "data": {
      "image/png": "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\n",
      "text/plain": [
       "<Figure size 1200x1000 with 2 Axes>"
      ]
     },
     "metadata": {},
     "output_type": "display_data"
    }
   ],
   "source": [
    "from sklearn.metrics import confusion_matrix\n",
    "\n",
    "difficulties_int = { \"easy\": 0, \"medium\": 1, \"hard\": 2 }\n",
    "y_pred = [difficulties_int[pred] for _, pred, _ in results]\n",
    "y_target = [difficulties_int[target] for _, _, target in results]\n",
    "\n",
    "cm = confusion_matrix(y_pred, y_target)\n",
    "\n",
    "plt.figure(figsize=(12, 10))\n",
    "\n",
    "class_labels = ['Easy', 'Medium', 'Hard']\n",
    "sns.heatmap(cm, annot=True, fmt='d', cmap='BuGn', xticklabels=class_labels, yticklabels=class_labels)\n",
    "plt.title(f'Confusion Matrix for Llama 2')\n",
    "plt.ylabel('True Label')\n",
    "plt.xlabel('Predicted Label')\n",
    "plt.savefig(f\"llama2.png\", dpi=300)\n",
    "plt.show()"
   ]
  },
  {
   "cell_type": "code",
   "execution_count": null,
   "id": "2ad24bf1-9480-4e4c-9804-c688529f1855",
   "metadata": {},
   "outputs": [],
   "source": []
  }
 ],
 "metadata": {
  "kernelspec": {
   "display_name": "Python [conda env:root] *",
   "language": "python",
   "name": "conda-root-py"
  },
  "language_info": {
   "codemirror_mode": {
    "name": "ipython",
    "version": 3
   },
   "file_extension": ".py",
   "mimetype": "text/x-python",
   "name": "python",
   "nbconvert_exporter": "python",
   "pygments_lexer": "ipython3",
   "version": "3.10.8"
  }
 },
 "nbformat": 4,
 "nbformat_minor": 5
}
