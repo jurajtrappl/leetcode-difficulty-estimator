{
 "cells": [
  {
   "cell_type": "code",
   "execution_count": 1,
   "id": "ddb58543-b5d0-4dc0-8a2f-dbfb263899b4",
   "metadata": {},
   "outputs": [
    {
     "name": "stdout",
     "output_type": "stream",
     "text": [
      "Note: you may need to restart the kernel to use updated packages.\n"
     ]
    }
   ],
   "source": [
    "%pip install -qU keras_tuner nltk beautifulsoup4 matplotlib imbalanced-learn"
   ]
  },
  {
   "cell_type": "markdown",
   "id": "148ffddf",
   "metadata": {},
   "source": [
    "## Dependencies"
   ]
  },
  {
   "cell_type": "code",
   "execution_count": 2,
   "id": "c845e911-d47e-4eb8-a5e6-34ed6852f6fc",
   "metadata": {},
   "outputs": [
    {
     "name": "stderr",
     "output_type": "stream",
     "text": [
      "2023-12-04 10:31:23.581300: I tensorflow/core/platform/cpu_feature_guard.cc:182] This TensorFlow binary is optimized to use available CPU instructions in performance-critical operations.\n",
      "To enable the following instructions: SSE4.1 SSE4.2 AVX AVX2 FMA, in other operations, rebuild TensorFlow with the appropriate compiler flags.\n",
      "[nltk_data] Downloading package stopwords to /home/jovyan/nltk_data...\n",
      "[nltk_data]   Package stopwords is already up-to-date!\n"
     ]
    },
    {
     "data": {
      "text/plain": [
       "True"
      ]
     },
     "execution_count": 2,
     "metadata": {},
     "output_type": "execute_result"
    }
   ],
   "source": [
    "from bs4 import BeautifulSoup\n",
    "from collections import Counter\n",
    "from imblearn.over_sampling import SMOTE\n",
    "import json\n",
    "import keras_tuner as kt\n",
    "import nltk\n",
    "from nltk.corpus import stopwords\n",
    "import matplotlib.pyplot as plt\n",
    "import numpy as np\n",
    "np.set_printoptions(precision=3, suppress=True)\n",
    "import os\n",
    "import random\n",
    "import re\n",
    "from sklearn.model_selection import train_test_split\n",
    "from sklearn.utils import resample\n",
    "import string\n",
    "import tensorflow as tf\n",
    "from tensorflow.keras.preprocessing.text import Tokenizer\n",
    "from tensorflow.keras.preprocessing.sequence import pad_sequences\n",
    "os.environ.setdefault(\"TF_CPP_MIN_LOG_LEVEL\", \"2\")  # Report only TF errors by default\n",
    "\n",
    "nltk.download(\"stopwords\")"
   ]
  },
  {
   "cell_type": "code",
   "execution_count": 3,
   "id": "b850a356-2412-4a15-aa29-de76a2f9c828",
   "metadata": {},
   "outputs": [],
   "source": [
    "SEED = 42\n",
    "\n",
    "tf.keras.utils.set_random_seed(SEED)"
   ]
  },
  {
   "cell_type": "markdown",
   "id": "d5ab4083",
   "metadata": {},
   "source": [
    "## Data\n",
    "\n",
    "Load the dataset"
   ]
  },
  {
   "cell_type": "code",
   "execution_count": 4,
   "id": "f89dc9eb-9ac8-4377-a2ad-b9c44c73484a",
   "metadata": {},
   "outputs": [
    {
     "data": {
      "text/plain": [
       "2950"
      ]
     },
     "execution_count": 4,
     "metadata": {},
     "output_type": "execute_result"
    }
   ],
   "source": [
    "with open('leetcode_problems_dataset.json', 'r') as f:\n",
    "    problems = json.load(f)\n",
    "    \n",
    "len(problems)"
   ]
  },
  {
   "cell_type": "markdown",
   "id": "73756907-6133-4025-be1b-37fc3ce0b5a5",
   "metadata": {},
   "source": [
    "Get rid of HTML tags and extract just the text"
   ]
  },
  {
   "cell_type": "code",
   "execution_count": 5,
   "id": "98e91eaa-1945-454a-916a-49baac2285c7",
   "metadata": {},
   "outputs": [
    {
     "data": {
      "text/plain": [
       "{'difficulty': 'Easy',\n",
       " 'content': '<p>Given an array of integers <code>nums</code>&nbsp;and an integer <code>target</code>, return <em>indices of the two numbers such that they add up to <code>target</code></em>.</p>\\n\\n<p>You may assume that each input would have <strong><em>exactly</em> one solution</strong>, and you may not use the <em>same</em> element twice.</p>\\n\\n<p>You can return the answer in any order.</p>\\n\\n<p>&nbsp;</p>\\n<p><strong class=\"example\">Example 1:</strong></p>\\n\\n<pre>\\n<strong>Input:</strong> nums = [2,7,11,15], target = 9\\n<strong>Output:</strong> [0,1]\\n<strong>Explanation:</strong> Because nums[0] + nums[1] == 9, we return [0, 1].\\n</pre>\\n\\n<p><strong class=\"example\">Example 2:</strong></p>\\n\\n<pre>\\n<strong>Input:</strong> nums = [3,2,4], target = 6\\n<strong>Output:</strong> [1,2]\\n</pre>\\n\\n<p><strong class=\"example\">Example 3:</strong></p>\\n\\n<pre>\\n<strong>Input:</strong> nums = [3,3], target = 6\\n<strong>Output:</strong> [0,1]\\n</pre>\\n\\n<p>&nbsp;</p>\\n<p><strong>Constraints:</strong></p>\\n\\n<ul>\\n\\t<li><code>2 &lt;= nums.length &lt;= 10<sup>4</sup></code></li>\\n\\t<li><code>-10<sup>9</sup> &lt;= nums[i] &lt;= 10<sup>9</sup></code></li>\\n\\t<li><code>-10<sup>9</sup> &lt;= target &lt;= 10<sup>9</sup></code></li>\\n\\t<li><strong>Only one valid answer exists.</strong></li>\\n</ul>\\n\\n<p>&nbsp;</p>\\n<strong>Follow-up:&nbsp;</strong>Can you come up with an algorithm that is less than <code>O(n<sup>2</sup>)</code><font face=\"monospace\">&nbsp;</font>time complexity?'}"
      ]
     },
     "execution_count": 5,
     "metadata": {},
     "output_type": "execute_result"
    }
   ],
   "source": [
    "problems[\"two-sum\"]"
   ]
  },
  {
   "cell_type": "markdown",
   "id": "2d08e0e9-441d-4985-b0be-96e8199e6476",
   "metadata": {},
   "source": [
    "Premium problems don't have content (since I'm not a premium user)"
   ]
  },
  {
   "cell_type": "code",
   "execution_count": 6,
   "id": "87543faa-d7fe-4d56-8feb-f43a51952569",
   "metadata": {},
   "outputs": [
    {
     "data": {
      "text/plain": [
       "2366"
      ]
     },
     "execution_count": 6,
     "metadata": {},
     "output_type": "execute_result"
    }
   ],
   "source": [
    "problems_without_html = []\n",
    "for problem_name, problem_data in problems.items():\n",
    "    if not problem_data[\"content\"]:\n",
    "        continue\n",
    "    \n",
    "    try:\n",
    "        problems_without_html.append((BeautifulSoup(problem_data[\"content\"], \"html.parser\").get_text(), problem_data[\"difficulty\"]))\n",
    "    except Exception as e:\n",
    "        print(problem_name)\n",
    "    \n",
    "len(problems_without_html)"
   ]
  },
  {
   "cell_type": "code",
   "execution_count": 7,
   "id": "5fe46b17-071e-441b-b39d-3a2d5b58f6b2",
   "metadata": {},
   "outputs": [],
   "source": [
    "stop_words = set(stopwords.words('english'))\n",
    "\n",
    "def preprocess(text):\n",
    "    pattern = r'\\b\\w+\\b|`[^`]+`|\\S' # words, numbers, symbols, and code-like elements\n",
    "    tokens = re.findall(pattern, text)\n",
    "    \n",
    "    # remove punctuation\n",
    "    tokens = [token for token in tokens if all(c not in string.punctuation for c in token)]\n",
    "    \n",
    "    # lowercase\n",
    "    tokens = [t.lower() for t in tokens]\n",
    "    \n",
    "    # replace numbers with NUMBER token\n",
    "    tokens = ['<NUMBER>' if re.match(r\"^\\d+$\", token) else token for token in tokens]\n",
    "    \n",
    "    # remove stopwords\n",
    "    tokens = [token for token in tokens if token not in stop_words]\n",
    "    \n",
    "    return tokens"
   ]
  },
  {
   "cell_type": "code",
   "execution_count": 8,
   "id": "3db9c892-cbf4-4094-ac3f-8d0f57a8fe7a",
   "metadata": {},
   "outputs": [
    {
     "data": {
      "text/plain": [
       "(['binary',\n",
       "  'matrix',\n",
       "  'matrix',\n",
       "  'elements',\n",
       "  'either',\n",
       "  '<NUMBER>',\n",
       "  '<NUMBER>',\n",
       "  'given',\n",
       "  'quadtree1',\n",
       "  'quadtree2',\n",
       "  'quadtree1',\n",
       "  'represents',\n",
       "  'n',\n",
       "  'n',\n",
       "  'binary',\n",
       "  'matrix',\n",
       "  'quadtree2',\n",
       "  'represents',\n",
       "  'another',\n",
       "  'n',\n",
       "  'n',\n",
       "  'binary',\n",
       "  'matrix',\n",
       "  'return',\n",
       "  'quad',\n",
       "  'tree',\n",
       "  'representing',\n",
       "  'n',\n",
       "  'n',\n",
       "  'binary',\n",
       "  'matrix',\n",
       "  'result',\n",
       "  'logical',\n",
       "  'bitwise',\n",
       "  'two',\n",
       "  'binary',\n",
       "  'matrixes',\n",
       "  'represented',\n",
       "  'quadtree1',\n",
       "  'quadtree2',\n",
       "  'notice',\n",
       "  'assign',\n",
       "  'value',\n",
       "  'node',\n",
       "  'true',\n",
       "  'false',\n",
       "  'isleaf',\n",
       "  'false',\n",
       "  'accepted',\n",
       "  'answer',\n",
       "  'quad',\n",
       "  'tree',\n",
       "  'tree',\n",
       "  'data',\n",
       "  'structure',\n",
       "  'internal',\n",
       "  'node',\n",
       "  'exactly',\n",
       "  'four',\n",
       "  'children',\n",
       "  'besides',\n",
       "  'node',\n",
       "  'two',\n",
       "  'attributes',\n",
       "  'val',\n",
       "  'true',\n",
       "  'node',\n",
       "  'represents',\n",
       "  'grid',\n",
       "  '<NUMBER>',\n",
       "  'false',\n",
       "  'node',\n",
       "  'represents',\n",
       "  'grid',\n",
       "  '<NUMBER>',\n",
       "  'isleaf',\n",
       "  'true',\n",
       "  'node',\n",
       "  'leaf',\n",
       "  'node',\n",
       "  'tree',\n",
       "  'false',\n",
       "  'node',\n",
       "  'four',\n",
       "  'children',\n",
       "  'class',\n",
       "  'node',\n",
       "  'public',\n",
       "  'boolean',\n",
       "  'val',\n",
       "  'public',\n",
       "  'boolean',\n",
       "  'isleaf',\n",
       "  'public',\n",
       "  'node',\n",
       "  'topleft',\n",
       "  'public',\n",
       "  'node',\n",
       "  'topright',\n",
       "  'public',\n",
       "  'node',\n",
       "  'bottomleft',\n",
       "  'public',\n",
       "  'node',\n",
       "  'bottomright',\n",
       "  'construct',\n",
       "  'quad',\n",
       "  'tree',\n",
       "  'two',\n",
       "  'dimensional',\n",
       "  'area',\n",
       "  'using',\n",
       "  'following',\n",
       "  'steps',\n",
       "  'current',\n",
       "  'grid',\n",
       "  'value',\n",
       "  'e',\n",
       "  '<NUMBER>',\n",
       "  '<NUMBER>',\n",
       "  'set',\n",
       "  'isleaf',\n",
       "  'true',\n",
       "  'set',\n",
       "  'val',\n",
       "  'value',\n",
       "  'grid',\n",
       "  'set',\n",
       "  'four',\n",
       "  'children',\n",
       "  'null',\n",
       "  'stop',\n",
       "  'current',\n",
       "  'grid',\n",
       "  'different',\n",
       "  'values',\n",
       "  'set',\n",
       "  'isleaf',\n",
       "  'false',\n",
       "  'set',\n",
       "  'val',\n",
       "  'value',\n",
       "  'divide',\n",
       "  'current',\n",
       "  'grid',\n",
       "  'four',\n",
       "  'sub',\n",
       "  'grids',\n",
       "  'shown',\n",
       "  'photo',\n",
       "  'recurse',\n",
       "  'children',\n",
       "  'proper',\n",
       "  'sub',\n",
       "  'grid',\n",
       "  'want',\n",
       "  'know',\n",
       "  'quad',\n",
       "  'tree',\n",
       "  'refer',\n",
       "  'wiki',\n",
       "  'quad',\n",
       "  'tree',\n",
       "  'format',\n",
       "  'input',\n",
       "  'output',\n",
       "  'represents',\n",
       "  'serialized',\n",
       "  'format',\n",
       "  'quad',\n",
       "  'tree',\n",
       "  'using',\n",
       "  'level',\n",
       "  'order',\n",
       "  'traversal',\n",
       "  'null',\n",
       "  'signifies',\n",
       "  'path',\n",
       "  'terminator',\n",
       "  'node',\n",
       "  'exists',\n",
       "  'similar',\n",
       "  'serialization',\n",
       "  'binary',\n",
       "  'tree',\n",
       "  'difference',\n",
       "  'node',\n",
       "  'represented',\n",
       "  'list',\n",
       "  'isleaf',\n",
       "  'val',\n",
       "  'value',\n",
       "  'isleaf',\n",
       "  'val',\n",
       "  'true',\n",
       "  'represent',\n",
       "  '<NUMBER>',\n",
       "  'list',\n",
       "  'isleaf',\n",
       "  'val',\n",
       "  'value',\n",
       "  'isleaf',\n",
       "  'val',\n",
       "  'false',\n",
       "  'represent',\n",
       "  '<NUMBER>',\n",
       "  'example',\n",
       "  '<NUMBER>',\n",
       "  'input',\n",
       "  'quadtree1',\n",
       "  '<NUMBER>',\n",
       "  '<NUMBER>',\n",
       "  '<NUMBER>',\n",
       "  '<NUMBER>',\n",
       "  '<NUMBER>',\n",
       "  '<NUMBER>',\n",
       "  '<NUMBER>',\n",
       "  '<NUMBER>',\n",
       "  '<NUMBER>',\n",
       "  '<NUMBER>',\n",
       "  'quadtree2',\n",
       "  '<NUMBER>',\n",
       "  '<NUMBER>',\n",
       "  '<NUMBER>',\n",
       "  '<NUMBER>',\n",
       "  '<NUMBER>',\n",
       "  '<NUMBER>',\n",
       "  '<NUMBER>',\n",
       "  '<NUMBER>',\n",
       "  '<NUMBER>',\n",
       "  '<NUMBER>',\n",
       "  'null',\n",
       "  'null',\n",
       "  'null',\n",
       "  'null',\n",
       "  '<NUMBER>',\n",
       "  '<NUMBER>',\n",
       "  '<NUMBER>',\n",
       "  '<NUMBER>',\n",
       "  '<NUMBER>',\n",
       "  '<NUMBER>',\n",
       "  '<NUMBER>',\n",
       "  '<NUMBER>',\n",
       "  'output',\n",
       "  '<NUMBER>',\n",
       "  '<NUMBER>',\n",
       "  '<NUMBER>',\n",
       "  '<NUMBER>',\n",
       "  '<NUMBER>',\n",
       "  '<NUMBER>',\n",
       "  '<NUMBER>',\n",
       "  '<NUMBER>',\n",
       "  '<NUMBER>',\n",
       "  '<NUMBER>',\n",
       "  'explanation',\n",
       "  'quadtree1',\n",
       "  'quadtree2',\n",
       "  'shown',\n",
       "  'see',\n",
       "  'binary',\n",
       "  'matrix',\n",
       "  'represented',\n",
       "  'quad',\n",
       "  'tree',\n",
       "  'apply',\n",
       "  'logical',\n",
       "  'bitwise',\n",
       "  'two',\n",
       "  'binary',\n",
       "  'matrices',\n",
       "  'get',\n",
       "  'binary',\n",
       "  'matrix',\n",
       "  'represented',\n",
       "  'result',\n",
       "  'quad',\n",
       "  'tree',\n",
       "  'notice',\n",
       "  'binary',\n",
       "  'matrices',\n",
       "  'shown',\n",
       "  'illustration',\n",
       "  'construct',\n",
       "  'binary',\n",
       "  'matrix',\n",
       "  'get',\n",
       "  'result',\n",
       "  'tree',\n",
       "  'example',\n",
       "  '<NUMBER>',\n",
       "  'input',\n",
       "  'quadtree1',\n",
       "  '<NUMBER>',\n",
       "  '<NUMBER>',\n",
       "  'quadtree2',\n",
       "  '<NUMBER>',\n",
       "  '<NUMBER>',\n",
       "  'output',\n",
       "  '<NUMBER>',\n",
       "  '<NUMBER>',\n",
       "  'explanation',\n",
       "  'tree',\n",
       "  'represents',\n",
       "  'binary',\n",
       "  'matrix',\n",
       "  'size',\n",
       "  '<NUMBER>',\n",
       "  '<NUMBER>',\n",
       "  'matrix',\n",
       "  'contains',\n",
       "  'zero',\n",
       "  'resulting',\n",
       "  'matrix',\n",
       "  'size',\n",
       "  '<NUMBER>',\n",
       "  '<NUMBER>',\n",
       "  'also',\n",
       "  'zero',\n",
       "  'constraints',\n",
       "  'quadtree1',\n",
       "  'quadtree2',\n",
       "  'valid',\n",
       "  'quad',\n",
       "  'trees',\n",
       "  'representing',\n",
       "  'n',\n",
       "  'n',\n",
       "  'grid',\n",
       "  'n',\n",
       "  '2x',\n",
       "  '<NUMBER>',\n",
       "  'x',\n",
       "  '<NUMBER>'],\n",
       " 'Medium')"
      ]
     },
     "execution_count": 8,
     "metadata": {},
     "output_type": "execute_result"
    }
   ],
   "source": [
    "problems_preprocessed = [(preprocess(text), difficulty) for text, difficulty in problems_without_html]\n",
    "\n",
    "random.choice(problems_preprocessed)"
   ]
  },
  {
   "cell_type": "code",
   "execution_count": 9,
   "id": "47936baf-d282-4d22-a3eb-ed1c436772f2",
   "metadata": {},
   "outputs": [
    {
     "data": {
      "text/plain": [
       "array([  10,   61,   66,   38,    9, 2258,  281,   34,  592,   39,   42,\n",
       "         73,   49,   45,   45,   49,  131,  281, 2451,    2,    1,    3,\n",
       "         61,    1,    1,    1,   26,   26,    1,    1,    4,    1,    1,\n",
       "          1,    1,    1,    2,    1,    3,   61,    1,    4,    1,    2,\n",
       "          1,    3,   61,    4,   13,   12,   39,   38,   82,    1,    1,\n",
       "          1,   20,  109,    1,    0,    0,    0,    0,    0,    0,    0,\n",
       "          0,    0,    0,    0,    0,    0,    0,    0,    0,    0,    0,\n",
       "          0,    0,    0,    0,    0,    0,    0,    0,    0,    0,    0,\n",
       "          0,    0,    0,    0,    0,    0,    0,    0,    0,    0,    0,\n",
       "          0,    0,    0,    0,    0,    0,    0,    0,    0,    0,    0,\n",
       "          0,    0,    0,    0,    0,    0,    0,    0,    0,    0,    0,\n",
       "          0,    0,    0,    0,    0,    0,    0,    0,    0,    0,    0,\n",
       "          0,    0,    0,    0,    0,    0,    0,    0,    0,    0,    0,\n",
       "          0,    0,    0,    0,    0,    0,    0,    0,    0,    0,    0,\n",
       "          0,    0,    0,    0,    0,    0,    0,    0,    0,    0,    0,\n",
       "          0,    0,    0,    0,    0,    0,    0,    0,    0,    0,    0,\n",
       "          0,    0,    0,    0,    0,    0,    0,    0,    0,    0,    0,\n",
       "          0,    0,    0,    0,    0,    0,    0,    0,    0,    0,    0,\n",
       "          0,    0,    0,    0,    0,    0,    0,    0,    0,    0,    0,\n",
       "          0,    0,    0,    0,    0,    0,    0,    0,    0,    0,    0,\n",
       "          0,    0,    0,    0,    0,    0], dtype=int32)"
      ]
     },
     "execution_count": 9,
     "metadata": {},
     "output_type": "execute_result"
    }
   ],
   "source": [
    "tokenizer = Tokenizer()\n",
    "tokenizer.fit_on_texts([text for text, _ in problems_preprocessed])\n",
    "sequences = tokenizer.texts_to_sequences([text for text, _ in problems_preprocessed])\n",
    "vocab_size = len(tokenizer.word_index) + 1\n",
    "\n",
    "# pad all vectors to 90 percentile max length\n",
    "max_length = int(np.percentile([len(seq) for seq in sequences], 90))\n",
    "X = pad_sequences(sequences, maxlen=max_length, padding='post')\n",
    "\n",
    "difficulties_int = { \"Easy\": 0, \"Medium\": 1, \"Hard\": 2 }\n",
    "y = [difficulties_int[difficulty] for _, difficulty in problems_preprocessed]\n",
    "\n",
    "\n",
    "random.choice(X)"
   ]
  },
  {
   "cell_type": "markdown",
   "id": "b98e2e22-e004-4368-a59a-4e35930d8a1e",
   "metadata": {},
   "source": [
    "### Prepare training, validation and test datasets"
   ]
  },
  {
   "cell_type": "markdown",
   "id": "49d01bd9-5889-4e02-a312-805f9f7ae4d8",
   "metadata": {},
   "source": [
    "Let's see the distribution of difficulties of problems"
   ]
  },
  {
   "cell_type": "code",
   "execution_count": 10,
   "id": "59d0d741-e54f-4132-8fdb-24222593bbf2",
   "metadata": {},
   "outputs": [
    {
     "data": {
      "image/png": "[encoded data removed]",
      "text/plain": [
       "<Figure size 640x480 with 1 Axes>"
      ]
     },
     "metadata": {},
     "output_type": "display_data"
    }
   ],
   "source": [
    "difficulty_counts = Counter(y)\n",
    "total_count = sum(difficulty_counts.values())\n",
    "\n",
    "plt.pie([count / total_count for count in difficulty_counts.values()], labels=[\"Easy\", \"Medium\", \"Hard\"])\n",
    "plt.show()"
   ]
  },
  {
   "cell_type": "markdown",
   "id": "d7870a21",
   "metadata": {},
   "source": [
    "Generate balanced batches"
   ]
  },
  {
   "cell_type": "code",
   "execution_count": 11,
   "id": "5e5f785c-95dc-4e67-880d-d1649782df52",
   "metadata": {},
   "outputs": [
    {
     "name": "stdout",
     "output_type": "stream",
     "text": [
      "len(X_train)=1656, len(X_val)=355, len(X_test)=355\n"
     ]
    }
   ],
   "source": [
    "# 70:15:15 train:validation:test, stratify is there to preserve the real world ratio in validation and test\n",
    "X_train, X_val, y_train, y_val = train_test_split(X, y, test_size=0.3, random_state=SEED, stratify=y)\n",
    "X_val, X_test, y_val, y_test = train_test_split(X_val, y_val, test_size=0.5, random_state=SEED, stratify=y_val)\n",
    "\n",
    "# for convenience\n",
    "X_train, X_val, X_test, y_train, y_val, y_test = np.array(X_train), np.array(X_val), np.array(X_test), np.array(y_train), np.array(y_val), np.array(y_test)\n",
    "print(f\"{len(X_train)=}, {len(X_val)=}, {len(X_test)=}\")"
   ]
  },
  {
   "cell_type": "markdown",
   "id": "7573ebb8-490f-4d02-8fd5-c0ae24927964",
   "metadata": {},
   "source": [
    "Oversampling technique of the minority class, common approach to handle imbalanced datasets"
   ]
  },
  {
   "cell_type": "code",
   "execution_count": 12,
   "id": "419792d8-d860-4c0c-bd06-03ee0b67eb68",
   "metadata": {},
   "outputs": [],
   "source": [
    "smote = SMOTE(random_state=SEED)\n",
    "\n",
    "X_train_smote, y_train_smote = smote.fit_resample(X_train, y_train)"
   ]
  },
  {
   "cell_type": "code",
   "execution_count": 13,
   "id": "174b11c6-8ba5-4a48-a5ad-25d965570267",
   "metadata": {},
   "outputs": [
    {
     "data": {
      "image/png": "[encoded data removed]",
      "text/plain": [
       "<Figure size 640x480 with 1 Axes>"
      ]
     },
     "metadata": {},
     "output_type": "display_data"
    }
   ],
   "source": [
    "difficulty_counts_train_smote = Counter(y_train_smote)\n",
    "total_count_train_smote = sum(difficulty_counts_train_smote.values())\n",
    "\n",
    "plt.pie([count / total_count_train_smote for count in difficulty_counts_train_smote.values()], labels=[\"Easy\", \"Medium\", \"Hard\"], colors=[\"#F6F4F1\", \"blue\", \"red\"])\n",
    "plt.show()"
   ]
  },
  {
   "cell_type": "code",
   "execution_count": 14,
   "id": "656a81c4-1b7d-43e0-9f9c-6363b23747e9",
   "metadata": {},
   "outputs": [
    {
     "name": "stderr",
     "output_type": "stream",
     "text": [
      "2023-12-04 10:31:32.855874: I tensorflow/core/common_runtime/gpu/gpu_device.cc:1635] Created device /job:localhost/replica:0/task:0/device:GPU:0 with 43683 MB memory:  -> device: 0, name: NVIDIA A40, pci bus id: 0000:61:00.0, compute capability: 8.6\n"
     ]
    }
   ],
   "source": [
    "BATCH_SIZE = 16\n",
    "\n",
    "train = tf.data.Dataset.from_tensor_slices((X_train_smote, y_train_smote)).batch(BATCH_SIZE).prefetch(tf.data.AUTOTUNE)\n",
    "validation = tf.data.Dataset.from_tensor_slices((X_val, y_val)).batch(BATCH_SIZE).prefetch(tf.data.AUTOTUNE)"
   ]
  },
  {
   "cell_type": "markdown",
   "id": "aa12fe48",
   "metadata": {},
   "source": [
    "## Build RNN"
   ]
  },
  {
   "cell_type": "code",
   "execution_count": 15,
   "id": "248e52fd-0629-4c3d-8f64-c70b39278791",
   "metadata": {},
   "outputs": [],
   "source": [
    "def rnn_block(input, units, dropout_rate, recurrent_dropout, hp_rnn_type, return_sequences=True):\n",
    "    if hp_rnn_type == 'lstm':\n",
    "        rnn_layer = tf.keras.layers.LSTM(units, dropout=dropout_rate, recurrent_dropout=recurrent_dropout, return_sequences=return_sequences)(input)\n",
    "    elif hp_rnn_type == 'gru':\n",
    "        rnn_layer = tf.keras.layers.GRU(units, dropout=dropout_rate, recurrent_dropout=recurrent_dropout, return_sequences=return_sequences)(input)\n",
    "    else:\n",
    "        raise ValueError(\"Invalid RNN type\")\n",
    "\n",
    "    return rnn_layer"
   ]
  },
  {
   "cell_type": "code",
   "execution_count": 16,
   "id": "f7170b0a-cd8f-4aa7-ada9-d397efd82db6",
   "metadata": {},
   "outputs": [],
   "source": [
    "def build_model(hp):\n",
    "    input = tf.keras.layers.Input(shape=(max_length,))\n",
    "\n",
    "    hp_embedding_dim = hp.Int('embedding_dim', min_value=32, max_value=256, step=32)\n",
    "    embedding = tf.keras.layers.Embedding(input_dim=vocab_size, output_dim=hp_embedding_dim, mask_zero=True)(input)\n",
    "    # now 3d - (batch_size, sequence, embed_dim)\n",
    "    \n",
    "    hp_units = hp.Int(f'rnn_units', min_value=32, max_value=256, step=32)\n",
    "    hp_dropout = hp.Choice(f'rnn_dropout', values=[.2, .3, .4, .5])\n",
    "    hp_recurrent_dropout = hp.Choice(f'rnn_recurrent_dropout', values=[.2, .3, .4, .5])\n",
    "    hp_rnn_type = hp.Choice(f'rnn_type', values=['lstm', 'gru'])\n",
    "    \n",
    "    if hp_rnn_type == 'lstm':\n",
    "        rnn = tf.keras.layers.LSTM(hp_units, dropout=hp_dropout, recurrent_dropout=hp_recurrent_dropout, return_sequences=False)(embedding)\n",
    "    elif hp_rnn_type == 'gru':\n",
    "        rnn = tf.keras.layers.GRU(hp_units, dropout=hp_dropout, recurrent_dropout=hp_recurrent_dropout, return_sequences=False)(embedding)\n",
    "\n",
    "    output = tf.keras.layers.Dense(units=3, activation=tf.nn.softmax)(rnn)\n",
    "    model = tf.keras.Model(inputs=input, outputs=output)\n",
    "\n",
    "    hp_learning_rate = hp.Choice('learning_rate', values=[.01, .005, .001])\n",
    "    hp_sgd_momentum = hp.Choice('sgd_momentum', values=[.8, .9])\n",
    "    hp_optimizer_name = hp.Choice('optimizer', values=['adam', 'sgd', 'rmsprop', 'adagrad'])\n",
    "\n",
    "    if hp_optimizer_name == 'adam':\n",
    "        optimizer = tf.keras.optimizers.Adam(learning_rate=hp_learning_rate)\n",
    "    elif hp_optimizer_name == 'sgd':\n",
    "        optimizer = tf.keras.optimizers.SGD(learning_rate=hp_learning_rate, momentum=hp_sgd_momentum, nesterov=True)\n",
    "    elif hp_optimizer_name == 'rmsprop':\n",
    "        optimizer = tf.keras.optimizers.RMSprop(learning_rate=hp_learning_rate)\n",
    "    elif hp_optimizer_name == 'adagrad':\n",
    "        optimizer = tf.keras.optimizers.Adagrad(learning_rate=hp_learning_rate)\n",
    "    \n",
    "    model.compile(optimizer=optimizer,\n",
    "                  loss=tf.keras.losses.SparseCategoricalCrossentropy(),\n",
    "                  metrics=[tf.keras.metrics.SparseCategoricalAccuracy()])\n",
    "    \n",
    "    return model"
   ]
  },
  {
   "cell_type": "markdown",
   "id": "d4262929-3bc2-4a0c-a107-60ba458b93c9",
   "metadata": {},
   "source": [
    "## Train RNN"
   ]
  },
  {
   "cell_type": "markdown",
   "id": "20923de2-028f-48d6-9b6c-89948e215d43",
   "metadata": {},
   "source": [
    "Set up hyper search using the hyper band algorithm"
   ]
  },
  {
   "cell_type": "code",
   "execution_count": 17,
   "id": "ccbcd5b6-adde-4092-a606-a49202fa6456",
   "metadata": {},
   "outputs": [
    {
     "name": "stdout",
     "output_type": "stream",
     "text": [
      "Reloading Tuner from rnn_model/untitled_project/tuner0.json\n"
     ]
    }
   ],
   "source": [
    "tuner = kt.Hyperband(\n",
    "    build_model,\n",
    "    objective='val_sparse_categorical_accuracy',\n",
    "    directory='rnn_model',\n",
    "    seed=SEED\n",
    ")"
   ]
  },
  {
   "cell_type": "markdown",
   "id": "a3843d4e-10b9-4667-89cc-7a04b3b054f6",
   "metadata": {},
   "source": [
    "Start search for the best hyperparameters given the current datasets"
   ]
  },
  {
   "cell_type": "code",
   "execution_count": 18,
   "id": "86850d6b-c5b4-4959-82ba-660765c42ef1",
   "metadata": {},
   "outputs": [
    {
     "name": "stdout",
     "output_type": "stream",
     "text": [
      "Trial 246 Complete [00h 09m 07s]\n",
      "val_sparse_categorical_accuracy: 0.21690140664577484\n",
      "\n",
      "Best val_sparse_categorical_accuracy So Far: 0.5211267471313477\n",
      "Total elapsed time: 2d 02h 42m 54s\n"
     ]
    }
   ],
   "source": [
    "tuner.search(\n",
    "    train,\n",
    "    callbacks=[\n",
    "        tf.keras.callbacks.ReduceLROnPlateau(\n",
    "            monitor='val_loss',\n",
    "            factor=0.1,\n",
    "            patience=10\n",
    "        ),\n",
    "        tf.keras.callbacks.EarlyStopping(\n",
    "            monitor='val_loss',\n",
    "            mode='min',\n",
    "            patience=3,\n",
    "            verbose=1,\n",
    "            restore_best_weights=True\n",
    "        )\n",
    "    ],\n",
    "    validation_data=validation\n",
    ")"
   ]
  },
  {
   "cell_type": "markdown",
   "id": "8e157af7-c03e-4a44-8d93-8b9e6932042e",
   "metadata": {},
   "source": [
    "Extract hyperparameters from the best trial and store them"
   ]
  },
  {
   "cell_type": "code",
   "execution_count": 19,
   "id": "b5d148b6-fdb6-4f67-ab07-81b24e45ce4e",
   "metadata": {},
   "outputs": [],
   "source": [
    "best_trial = tuner.oracle.get_best_trials(num_trials=1)[0]\n",
    "best_hps = best_trial.hyperparameters\n",
    "\n",
    "with open('rnn_best_hp.json', 'w') as f:\n",
    "    json.dump(best_hps.values, f)"
   ]
  },
  {
   "cell_type": "code",
   "execution_count": 20,
   "id": "a9d2da0c-871a-4bc7-ab38-38eac99bd000",
   "metadata": {},
   "outputs": [
    {
     "name": "stdout",
     "output_type": "stream",
     "text": [
      "WARNING:tensorflow:Layer gru will not use cuDNN kernels since it doesn't meet the criteria. It will use a generic GPU kernel as fallback when running on GPU.\n",
      "Epoch 1/100\n",
      "159/159 [==============================] - 125s 778ms/step - loss: 1.1017 - sparse_categorical_accuracy: 0.3207 - val_loss: 1.0848 - val_sparse_categorical_accuracy: 0.4817 - lr: 0.0010\n",
      "Epoch 2/100\n",
      "159/159 [==============================] - 116s 730ms/step - loss: 1.0962 - sparse_categorical_accuracy: 0.3404 - val_loss: 1.0825 - val_sparse_categorical_accuracy: 0.4789 - lr: 0.0010\n",
      "Epoch 3/100\n",
      "159/159 [==============================] - 113s 713ms/step - loss: 1.0940 - sparse_categorical_accuracy: 0.3495 - val_loss: 1.0808 - val_sparse_categorical_accuracy: 0.4789 - lr: 0.0010\n",
      "Epoch 4/100\n",
      "159/159 [==============================] - 114s 716ms/step - loss: 1.0914 - sparse_categorical_accuracy: 0.3641 - val_loss: 1.0793 - val_sparse_categorical_accuracy: 0.4845 - lr: 0.0010\n",
      "Epoch 5/100\n",
      "159/159 [==============================] - 110s 690ms/step - loss: 1.0900 - sparse_categorical_accuracy: 0.3803 - val_loss: 1.0779 - val_sparse_categorical_accuracy: 0.4873 - lr: 0.0010\n",
      "Epoch 6/100\n",
      "159/159 [==============================] - 115s 723ms/step - loss: 1.0877 - sparse_categorical_accuracy: 0.4004 - val_loss: 1.0766 - val_sparse_categorical_accuracy: 0.4817 - lr: 0.0010\n",
      "Epoch 7/100\n",
      "159/159 [==============================] - 114s 718ms/step - loss: 1.0858 - sparse_categorical_accuracy: 0.4055 - val_loss: 1.0754 - val_sparse_categorical_accuracy: 0.4845 - lr: 0.0010\n",
      "Epoch 8/100\n",
      "159/159 [==============================] - 115s 723ms/step - loss: 1.0844 - sparse_categorical_accuracy: 0.4162 - val_loss: 1.0742 - val_sparse_categorical_accuracy: 0.4873 - lr: 0.0010\n",
      "Epoch 9/100\n",
      "159/159 [==============================] - 115s 724ms/step - loss: 1.0828 - sparse_categorical_accuracy: 0.4308 - val_loss: 1.0731 - val_sparse_categorical_accuracy: 0.4789 - lr: 0.0010\n",
      "Epoch 10/100\n",
      "159/159 [==============================] - 113s 710ms/step - loss: 1.0814 - sparse_categorical_accuracy: 0.4288 - val_loss: 1.0720 - val_sparse_categorical_accuracy: 0.4704 - lr: 0.0010\n",
      "Epoch 11/100\n",
      "159/159 [==============================] - 114s 716ms/step - loss: 1.0796 - sparse_categorical_accuracy: 0.4446 - val_loss: 1.0710 - val_sparse_categorical_accuracy: 0.4648 - lr: 0.0010\n",
      "Epoch 12/100\n",
      "159/159 [==============================] - 111s 697ms/step - loss: 1.0783 - sparse_categorical_accuracy: 0.4462 - val_loss: 1.0701 - val_sparse_categorical_accuracy: 0.4563 - lr: 0.0010\n",
      "Epoch 13/100\n",
      "159/159 [==============================] - 114s 720ms/step - loss: 1.0764 - sparse_categorical_accuracy: 0.4418 - val_loss: 1.0692 - val_sparse_categorical_accuracy: 0.4563 - lr: 0.0010\n",
      "Epoch 14/100\n",
      "159/159 [==============================] - 115s 725ms/step - loss: 1.0752 - sparse_categorical_accuracy: 0.4493 - val_loss: 1.0683 - val_sparse_categorical_accuracy: 0.4507 - lr: 0.0010\n",
      "Epoch 15/100\n",
      "159/159 [==============================] - 116s 730ms/step - loss: 1.0740 - sparse_categorical_accuracy: 0.4469 - val_loss: 1.0675 - val_sparse_categorical_accuracy: 0.4479 - lr: 0.0010\n",
      "Epoch 16/100\n",
      "159/159 [==============================] - 114s 715ms/step - loss: 1.0727 - sparse_categorical_accuracy: 0.4462 - val_loss: 1.0667 - val_sparse_categorical_accuracy: 0.4451 - lr: 0.0010\n",
      "Epoch 17/100\n",
      "159/159 [==============================] - 112s 705ms/step - loss: 1.0707 - sparse_categorical_accuracy: 0.4525 - val_loss: 1.0660 - val_sparse_categorical_accuracy: 0.4423 - lr: 0.0010\n",
      "Epoch 18/100\n",
      "159/159 [==============================] - 115s 721ms/step - loss: 1.0699 - sparse_categorical_accuracy: 0.4473 - val_loss: 1.0653 - val_sparse_categorical_accuracy: 0.4394 - lr: 0.0010\n",
      "Epoch 19/100\n",
      "159/159 [==============================] - 113s 713ms/step - loss: 1.0687 - sparse_categorical_accuracy: 0.4458 - val_loss: 1.0646 - val_sparse_categorical_accuracy: 0.4366 - lr: 0.0010\n",
      "Epoch 20/100\n",
      "159/159 [==============================] - 115s 723ms/step - loss: 1.0671 - sparse_categorical_accuracy: 0.4418 - val_loss: 1.0640 - val_sparse_categorical_accuracy: 0.4394 - lr: 0.0010\n",
      "Epoch 21/100\n",
      "159/159 [==============================] - 111s 701ms/step - loss: 1.0657 - sparse_categorical_accuracy: 0.4552 - val_loss: 1.0635 - val_sparse_categorical_accuracy: 0.4394 - lr: 0.0010\n",
      "Epoch 22/100\n",
      "159/159 [==============================] - 113s 709ms/step - loss: 1.0641 - sparse_categorical_accuracy: 0.4525 - val_loss: 1.0629 - val_sparse_categorical_accuracy: 0.4394 - lr: 0.0010\n",
      "Epoch 23/100\n",
      "159/159 [==============================] - 115s 724ms/step - loss: 1.0623 - sparse_categorical_accuracy: 0.4525 - val_loss: 1.0624 - val_sparse_categorical_accuracy: 0.4423 - lr: 0.0010\n",
      "Epoch 24/100\n",
      "159/159 [==============================] - 113s 712ms/step - loss: 1.0618 - sparse_categorical_accuracy: 0.4469 - val_loss: 1.0619 - val_sparse_categorical_accuracy: 0.4451 - lr: 0.0010\n",
      "Epoch 25/100\n",
      "159/159 [==============================] - 112s 702ms/step - loss: 1.0602 - sparse_categorical_accuracy: 0.4529 - val_loss: 1.0615 - val_sparse_categorical_accuracy: 0.4507 - lr: 0.0010\n",
      "Epoch 26/100\n",
      "159/159 [==============================] - 111s 699ms/step - loss: 1.0588 - sparse_categorical_accuracy: 0.4643 - val_loss: 1.0611 - val_sparse_categorical_accuracy: 0.4535 - lr: 0.0010\n",
      "Epoch 27/100\n",
      "159/159 [==============================] - 110s 690ms/step - loss: 1.0573 - sparse_categorical_accuracy: 0.4592 - val_loss: 1.0607 - val_sparse_categorical_accuracy: 0.4535 - lr: 0.0010\n",
      "Epoch 28/100\n",
      "159/159 [==============================] - 114s 715ms/step - loss: 1.0561 - sparse_categorical_accuracy: 0.4607 - val_loss: 1.0603 - val_sparse_categorical_accuracy: 0.4535 - lr: 0.0010\n",
      "Epoch 29/100\n",
      "159/159 [==============================] - 112s 706ms/step - loss: 1.0548 - sparse_categorical_accuracy: 0.4588 - val_loss: 1.0600 - val_sparse_categorical_accuracy: 0.4535 - lr: 0.0010\n",
      "Epoch 30/100\n",
      "159/159 [==============================] - 108s 681ms/step - loss: 1.0541 - sparse_categorical_accuracy: 0.4544 - val_loss: 1.0598 - val_sparse_categorical_accuracy: 0.4507 - lr: 0.0010\n",
      "Epoch 31/100\n",
      "159/159 [==============================] - 109s 686ms/step - loss: 1.0527 - sparse_categorical_accuracy: 0.4588 - val_loss: 1.0595 - val_sparse_categorical_accuracy: 0.4507 - lr: 0.0010\n",
      "Epoch 32/100\n",
      "159/159 [==============================] - 114s 716ms/step - loss: 1.0512 - sparse_categorical_accuracy: 0.4584 - val_loss: 1.0593 - val_sparse_categorical_accuracy: 0.4507 - lr: 0.0010\n",
      "Epoch 33/100\n",
      "159/159 [==============================] - 114s 719ms/step - loss: 1.0500 - sparse_categorical_accuracy: 0.4627 - val_loss: 1.0591 - val_sparse_categorical_accuracy: 0.4535 - lr: 0.0010\n",
      "Epoch 34/100\n",
      "159/159 [==============================] - 114s 716ms/step - loss: 1.0483 - sparse_categorical_accuracy: 0.4663 - val_loss: 1.0589 - val_sparse_categorical_accuracy: 0.4535 - lr: 0.0010\n",
      "Epoch 35/100\n",
      "159/159 [==============================] - 111s 699ms/step - loss: 1.0477 - sparse_categorical_accuracy: 0.4560 - val_loss: 1.0587 - val_sparse_categorical_accuracy: 0.4535 - lr: 0.0010\n",
      "Epoch 36/100\n",
      "159/159 [==============================] - 113s 714ms/step - loss: 1.0460 - sparse_categorical_accuracy: 0.4647 - val_loss: 1.0585 - val_sparse_categorical_accuracy: 0.4563 - lr: 0.0010\n",
      "Epoch 37/100\n",
      "159/159 [==============================] - 113s 709ms/step - loss: 1.0447 - sparse_categorical_accuracy: 0.4659 - val_loss: 1.0584 - val_sparse_categorical_accuracy: 0.4563 - lr: 0.0010\n",
      "Epoch 38/100\n",
      "159/159 [==============================] - 111s 696ms/step - loss: 1.0433 - sparse_categorical_accuracy: 0.4611 - val_loss: 1.0582 - val_sparse_categorical_accuracy: 0.4535 - lr: 0.0010\n",
      "Epoch 39/100\n",
      "159/159 [==============================] - 112s 702ms/step - loss: 1.0417 - sparse_categorical_accuracy: 0.4600 - val_loss: 1.0581 - val_sparse_categorical_accuracy: 0.4507 - lr: 0.0010\n",
      "Epoch 40/100\n",
      "159/159 [==============================] - 114s 715ms/step - loss: 1.0401 - sparse_categorical_accuracy: 0.4710 - val_loss: 1.0579 - val_sparse_categorical_accuracy: 0.4563 - lr: 0.0010\n",
      "Epoch 41/100\n",
      "159/159 [==============================] - 113s 712ms/step - loss: 1.0387 - sparse_categorical_accuracy: 0.4694 - val_loss: 1.0578 - val_sparse_categorical_accuracy: 0.4563 - lr: 0.0010\n",
      "Epoch 42/100\n",
      "159/159 [==============================] - 114s 720ms/step - loss: 1.0375 - sparse_categorical_accuracy: 0.4686 - val_loss: 1.0576 - val_sparse_categorical_accuracy: 0.4563 - lr: 0.0010\n",
      "Epoch 43/100\n",
      "159/159 [==============================] - 113s 712ms/step - loss: 1.0361 - sparse_categorical_accuracy: 0.4777 - val_loss: 1.0575 - val_sparse_categorical_accuracy: 0.4535 - lr: 0.0010\n",
      "Epoch 44/100\n",
      "159/159 [==============================] - 115s 721ms/step - loss: 1.0358 - sparse_categorical_accuracy: 0.4671 - val_loss: 1.0574 - val_sparse_categorical_accuracy: 0.4535 - lr: 0.0010\n",
      "Epoch 45/100\n",
      "159/159 [==============================] - 114s 715ms/step - loss: 1.0338 - sparse_categorical_accuracy: 0.4698 - val_loss: 1.0573 - val_sparse_categorical_accuracy: 0.4535 - lr: 0.0010\n",
      "Epoch 46/100\n",
      "159/159 [==============================] - 118s 742ms/step - loss: 1.0321 - sparse_categorical_accuracy: 0.4757 - val_loss: 1.0572 - val_sparse_categorical_accuracy: 0.4535 - lr: 0.0010\n",
      "Epoch 47/100\n",
      "159/159 [==============================] - 113s 710ms/step - loss: 1.0307 - sparse_categorical_accuracy: 0.4781 - val_loss: 1.0571 - val_sparse_categorical_accuracy: 0.4563 - lr: 0.0010\n",
      "Epoch 48/100\n",
      "159/159 [==============================] - 112s 707ms/step - loss: 1.0292 - sparse_categorical_accuracy: 0.4742 - val_loss: 1.0570 - val_sparse_categorical_accuracy: 0.4563 - lr: 0.0010\n",
      "Epoch 49/100\n",
      "159/159 [==============================] - 113s 712ms/step - loss: 1.0277 - sparse_categorical_accuracy: 0.4797 - val_loss: 1.0568 - val_sparse_categorical_accuracy: 0.4648 - lr: 0.0010\n",
      "Epoch 50/100\n",
      "159/159 [==============================] - 111s 699ms/step - loss: 1.0266 - sparse_categorical_accuracy: 0.4757 - val_loss: 1.0567 - val_sparse_categorical_accuracy: 0.4648 - lr: 0.0010\n",
      "Epoch 51/100\n",
      "159/159 [==============================] - 113s 709ms/step - loss: 1.0247 - sparse_categorical_accuracy: 0.4710 - val_loss: 1.0565 - val_sparse_categorical_accuracy: 0.4648 - lr: 0.0010\n",
      "Epoch 52/100\n",
      "159/159 [==============================] - 113s 711ms/step - loss: 1.0234 - sparse_categorical_accuracy: 0.4801 - val_loss: 1.0563 - val_sparse_categorical_accuracy: 0.4648 - lr: 0.0010\n",
      "Epoch 53/100\n",
      "159/159 [==============================] - 111s 699ms/step - loss: 1.0212 - sparse_categorical_accuracy: 0.4793 - val_loss: 1.0561 - val_sparse_categorical_accuracy: 0.4620 - lr: 0.0010\n",
      "Epoch 54/100\n",
      "159/159 [==============================] - 112s 708ms/step - loss: 1.0195 - sparse_categorical_accuracy: 0.4793 - val_loss: 1.0559 - val_sparse_categorical_accuracy: 0.4620 - lr: 0.0010\n",
      "Epoch 55/100\n",
      "159/159 [==============================] - 111s 701ms/step - loss: 1.0189 - sparse_categorical_accuracy: 0.4773 - val_loss: 1.0556 - val_sparse_categorical_accuracy: 0.4648 - lr: 0.0010\n",
      "Epoch 56/100\n",
      "159/159 [==============================] - 114s 720ms/step - loss: 1.0164 - sparse_categorical_accuracy: 0.4773 - val_loss: 1.0554 - val_sparse_categorical_accuracy: 0.4676 - lr: 0.0010\n",
      "Epoch 57/100\n",
      "159/159 [==============================] - 114s 716ms/step - loss: 1.0150 - sparse_categorical_accuracy: 0.4824 - val_loss: 1.0552 - val_sparse_categorical_accuracy: 0.4704 - lr: 0.0010\n",
      "Epoch 58/100\n",
      "159/159 [==============================] - 113s 710ms/step - loss: 1.0124 - sparse_categorical_accuracy: 0.4805 - val_loss: 1.0549 - val_sparse_categorical_accuracy: 0.4732 - lr: 0.0010\n",
      "Epoch 59/100\n",
      "159/159 [==============================] - 111s 696ms/step - loss: 1.0119 - sparse_categorical_accuracy: 0.4809 - val_loss: 1.0546 - val_sparse_categorical_accuracy: 0.4761 - lr: 0.0010\n",
      "Epoch 60/100\n",
      "159/159 [==============================] - 111s 696ms/step - loss: 1.0100 - sparse_categorical_accuracy: 0.4895 - val_loss: 1.0544 - val_sparse_categorical_accuracy: 0.4789 - lr: 0.0010\n",
      "Epoch 61/100\n",
      "159/159 [==============================] - 110s 693ms/step - loss: 1.0073 - sparse_categorical_accuracy: 0.4895 - val_loss: 1.0541 - val_sparse_categorical_accuracy: 0.4789 - lr: 0.0010\n",
      "Epoch 62/100\n",
      "159/159 [==============================] - 113s 709ms/step - loss: 1.0063 - sparse_categorical_accuracy: 0.4864 - val_loss: 1.0538 - val_sparse_categorical_accuracy: 0.4817 - lr: 0.0010\n",
      "Epoch 63/100\n",
      "159/159 [==============================] - 116s 730ms/step - loss: 1.0045 - sparse_categorical_accuracy: 0.4832 - val_loss: 1.0535 - val_sparse_categorical_accuracy: 0.4817 - lr: 0.0010\n",
      "Epoch 64/100\n",
      "159/159 [==============================] - 114s 715ms/step - loss: 1.0030 - sparse_categorical_accuracy: 0.4828 - val_loss: 1.0532 - val_sparse_categorical_accuracy: 0.4817 - lr: 0.0010\n",
      "Epoch 65/100\n",
      "159/159 [==============================] - 113s 712ms/step - loss: 1.0006 - sparse_categorical_accuracy: 0.4903 - val_loss: 1.0529 - val_sparse_categorical_accuracy: 0.4845 - lr: 0.0010\n",
      "Epoch 66/100\n",
      "159/159 [==============================] - 111s 698ms/step - loss: 0.9985 - sparse_categorical_accuracy: 0.4880 - val_loss: 1.0526 - val_sparse_categorical_accuracy: 0.4845 - lr: 0.0010\n",
      "Epoch 67/100\n",
      "159/159 [==============================] - 113s 710ms/step - loss: 0.9957 - sparse_categorical_accuracy: 0.4919 - val_loss: 1.0522 - val_sparse_categorical_accuracy: 0.4845 - lr: 0.0010\n",
      "Epoch 68/100\n",
      "159/159 [==============================] - 113s 709ms/step - loss: 0.9943 - sparse_categorical_accuracy: 0.4911 - val_loss: 1.0519 - val_sparse_categorical_accuracy: 0.4789 - lr: 0.0010\n",
      "Epoch 69/100\n",
      "159/159 [==============================] - 114s 716ms/step - loss: 0.9936 - sparse_categorical_accuracy: 0.4931 - val_loss: 1.0516 - val_sparse_categorical_accuracy: 0.4789 - lr: 0.0010\n",
      "Epoch 70/100\n",
      "159/159 [==============================] - 113s 714ms/step - loss: 0.9911 - sparse_categorical_accuracy: 0.4919 - val_loss: 1.0513 - val_sparse_categorical_accuracy: 0.4732 - lr: 0.0010\n",
      "Epoch 71/100\n",
      "159/159 [==============================] - 114s 719ms/step - loss: 0.9887 - sparse_categorical_accuracy: 0.4986 - val_loss: 1.0511 - val_sparse_categorical_accuracy: 0.4732 - lr: 0.0010\n",
      "Epoch 72/100\n",
      "159/159 [==============================] - 115s 722ms/step - loss: 0.9873 - sparse_categorical_accuracy: 0.4939 - val_loss: 1.0509 - val_sparse_categorical_accuracy: 0.4732 - lr: 0.0010\n",
      "Epoch 73/100\n",
      "159/159 [==============================] - 113s 712ms/step - loss: 0.9838 - sparse_categorical_accuracy: 0.4994 - val_loss: 1.0506 - val_sparse_categorical_accuracy: 0.4704 - lr: 0.0010\n",
      "Epoch 74/100\n",
      "159/159 [==============================] - 114s 715ms/step - loss: 0.9822 - sparse_categorical_accuracy: 0.4998 - val_loss: 1.0505 - val_sparse_categorical_accuracy: 0.4732 - lr: 0.0010\n",
      "Epoch 75/100\n",
      "159/159 [==============================] - 111s 697ms/step - loss: 0.9804 - sparse_categorical_accuracy: 0.4963 - val_loss: 1.0505 - val_sparse_categorical_accuracy: 0.4676 - lr: 0.0010\n",
      "Epoch 76/100\n",
      "159/159 [==============================] - 115s 721ms/step - loss: 0.9792 - sparse_categorical_accuracy: 0.5006 - val_loss: 1.0505 - val_sparse_categorical_accuracy: 0.4761 - lr: 0.0010\n",
      "Epoch 77/100\n",
      "159/159 [==============================] - 112s 706ms/step - loss: 0.9776 - sparse_categorical_accuracy: 0.5057 - val_loss: 1.0505 - val_sparse_categorical_accuracy: 0.4732 - lr: 0.0010\n",
      "Epoch 78/100\n",
      "159/159 [==============================] - 118s 743ms/step - loss: 0.9759 - sparse_categorical_accuracy: 0.5030 - val_loss: 1.0506 - val_sparse_categorical_accuracy: 0.4732 - lr: 0.0010\n",
      "Epoch 79/100\n",
      "159/159 [==============================] - ETA: 0s - loss: 0.9744 - sparse_categorical_accuracy: 0.5065Restoring model weights from the end of the best epoch: 76.\n",
      "159/159 [==============================] - 113s 710ms/step - loss: 0.9744 - sparse_categorical_accuracy: 0.5065 - val_loss: 1.0506 - val_sparse_categorical_accuracy: 0.4761 - lr: 0.0010\n",
      "Epoch 79: early stopping\n"
     ]
    },
    {
     "data": {
      "text/plain": [
       "<keras.callbacks.History at 0x7f33902d50f0>"
      ]
     },
     "execution_count": 20,
     "metadata": {},
     "output_type": "execute_result"
    }
   ],
   "source": [
    "best_model = tuner.hypermodel.build(best_hps)\n",
    "\n",
    "best_model.fit(\n",
    "    train,\n",
    "    epochs=100,\n",
    "    callbacks=[\n",
    "        tf.keras.callbacks.ReduceLROnPlateau(\n",
    "            monitor='val_loss',\n",
    "            factor=0.1,\n",
    "            patience=10\n",
    "        ),\n",
    "        tf.keras.callbacks.EarlyStopping(\n",
    "            monitor='val_loss',\n",
    "            mode='min',\n",
    "            patience=3,\n",
    "            verbose=1,\n",
    "            restore_best_weights=True\n",
    "        )\n",
    "    ],\n",
    "    validation_data=validation\n",
    ")"
   ]
  },
  {
   "cell_type": "code",
   "execution_count": 21,
   "id": "fc594612-d237-4f60-877f-3d18967cc591",
   "metadata": {},
   "outputs": [
    {
     "name": "stdout",
     "output_type": "stream",
     "text": [
      "12/12 [==============================] - 1s 56ms/step - loss: 1.0841 - sparse_categorical_accuracy: 0.4254\n"
     ]
    },
    {
     "data": {
      "text/plain": [
       "[1.0841212272644043, 0.4253521263599396]"
      ]
     },
     "execution_count": 21,
     "metadata": {},
     "output_type": "execute_result"
    }
   ],
   "source": [
    "best_model.evaluate(X_test, y_test)"
   ]
  },
  {
   "cell_type": "code",
   "execution_count": 22,
   "id": "16dd013a-3799-4cb8-a48d-8bf7362b1752",
   "metadata": {},
   "outputs": [
    {
     "name": "stdout",
     "output_type": "stream",
     "text": [
      "12/12 [==============================] - 1s 49ms/step\n"
     ]
    },
    {
     "data": {
      "text/plain": [
       "array([[0.188, 0.664, 0.148],\n",
       "       [0.386, 0.189, 0.426],\n",
       "       [0.262, 0.512, 0.226],\n",
       "       ...,\n",
       "       [0.219, 0.598, 0.183],\n",
       "       [0.329, 0.395, 0.276],\n",
       "       [0.282, 0.466, 0.252]], dtype=float32)"
      ]
     },
     "execution_count": 22,
     "metadata": {},
     "output_type": "execute_result"
    }
   ],
   "source": [
    "predictions = best_model.predict(X_test)\n",
    "predictions"
   ]
  },
  {
   "cell_type": "code",
   "execution_count": 23,
   "id": "53b784e0-1609-45e9-9ee7-b5198694cb44",
   "metadata": {},
   "outputs": [],
   "source": [
    "best_model.save('rnn_smote.h5')"
   ]
  },
  {
   "cell_type": "code",
   "execution_count": null,
   "id": "fed9fdfd-b5e1-403b-a3c9-c5e09c9d1687",
   "metadata": {},
   "outputs": [],
   "source": []
  }
 ],
 "metadata": {
  "kernelspec": {
   "display_name": "Python [conda env:root] *",
   "language": "python",
   "name": "conda-root-py"
  },
  "language_info": {
   "codemirror_mode": {
    "name": "ipython",
    "version": 3
   },
   "file_extension": ".py",
   "mimetype": "text/x-python",
   "name": "python",
   "nbconvert_exporter": "python",
   "pygments_lexer": "ipython3",
   "version": "3.10.8"
  }
 },
 "nbformat": 4,
 "nbformat_minor": 5
}
